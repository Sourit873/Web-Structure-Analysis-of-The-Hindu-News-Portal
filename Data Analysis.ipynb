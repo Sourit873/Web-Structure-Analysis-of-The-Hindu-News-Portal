{
  "cells": [
    {
      "cell_type": "markdown",
      "metadata": {},
      "source": [
        "<h2>Data Pre Processing"
      ]
    },
    {
      "cell_type": "markdown",
      "metadata": {},
      "source": [
        "<h4>Importing Required Packages"
      ]
    },
    {
      "cell_type": "code",
      "execution_count": 1,
      "metadata": {},
      "outputs": [],
      "source": [
        "import pandas as pd\n",
        "import numpy as np"
      ]
    },
    {
      "cell_type": "markdown",
      "metadata": {},
      "source": [
        "<h4>Importing the Exported File from Screaming Frog into the notebook as Pandas Dataframe"
      ]
    },
    {
      "cell_type": "code",
      "execution_count": 9,
      "metadata": {
        "id": "lIn7XnxzbeSL"
      },
      "outputs": [],
      "source": [
        "df = pd.read_csv('all_outlinks.csv')"
      ]
    },
    {
      "cell_type": "markdown",
      "metadata": {},
      "source": [
        "<h4>Checking no. of Rows and Columns"
      ]
    },
    {
      "cell_type": "code",
      "execution_count": 10,
      "metadata": {
        "colab": {
          "base_uri": "https://localhost:8080/"
        },
        "id": "7CeDY62-bitN",
        "outputId": "6a575a5e-60c1-4a29-f032-4c95b9890bc9"
      },
      "outputs": [
        {
          "data": {
            "text/plain": [
              "(45564, 2)"
            ]
          },
          "execution_count": 10,
          "metadata": {},
          "output_type": "execute_result"
        }
      ],
      "source": [
        "df.shape"
      ]
    },
    {
      "cell_type": "markdown",
      "metadata": {},
      "source": [
        "<h4>Previewing the Dataframe"
      ]
    },
    {
      "cell_type": "code",
      "execution_count": 11,
      "metadata": {
        "colab": {
          "base_uri": "https://localhost:8080/",
          "height": 423
        },
        "id": "IbQcDIFYbjW4",
        "outputId": "7de6c8a5-fce7-4d56-d76a-7d17097c7a98"
      },
      "outputs": [
        {
          "data": {
            "text/html": [
              "<div>\n",
              "<style scoped>\n",
              "    .dataframe tbody tr th:only-of-type {\n",
              "        vertical-align: middle;\n",
              "    }\n",
              "\n",
              "    .dataframe tbody tr th {\n",
              "        vertical-align: top;\n",
              "    }\n",
              "\n",
              "    .dataframe thead th {\n",
              "        text-align: right;\n",
              "    }\n",
              "</style>\n",
              "<table border=\"1\" class=\"dataframe\">\n",
              "  <thead>\n",
              "    <tr style=\"text-align: right;\">\n",
              "      <th></th>\n",
              "      <th>Source</th>\n",
              "      <th>Target</th>\n",
              "    </tr>\n",
              "  </thead>\n",
              "  <tbody>\n",
              "    <tr>\n",
              "      <th>0</th>\n",
              "      <td>http://www.thehindu.com/</td>\n",
              "      <td>https://www.thehindu.com/</td>\n",
              "    </tr>\n",
              "    <tr>\n",
              "      <th>1</th>\n",
              "      <td>https://www.thehindu.com/</td>\n",
              "      <td>https://www.thehindu.com/</td>\n",
              "    </tr>\n",
              "    <tr>\n",
              "      <th>2</th>\n",
              "      <td>https://www.thehindu.com/</td>\n",
              "      <td>https://www.thehindu.com/</td>\n",
              "    </tr>\n",
              "    <tr>\n",
              "      <th>3</th>\n",
              "      <td>https://www.thehindu.com/</td>\n",
              "      <td>https://www.thehindu.com/news/national/</td>\n",
              "    </tr>\n",
              "    <tr>\n",
              "      <th>4</th>\n",
              "      <td>https://www.thehindu.com/</td>\n",
              "      <td>https://www.thehindu.com/news/international/</td>\n",
              "    </tr>\n",
              "    <tr>\n",
              "      <th>...</th>\n",
              "      <td>...</td>\n",
              "      <td>...</td>\n",
              "    </tr>\n",
              "    <tr>\n",
              "      <th>45559</th>\n",
              "      <td>https://www.thehindu.com/news/national/telanga...</td>\n",
              "      <td>https://frontline.thehindu.com/news/chandrayaa...</td>\n",
              "    </tr>\n",
              "    <tr>\n",
              "      <th>45560</th>\n",
              "      <td>https://www.thehindu.com/news/national/telanga...</td>\n",
              "      <td>https://sportstar.thehindu.com/athletics/jana-...</td>\n",
              "    </tr>\n",
              "    <tr>\n",
              "      <th>45561</th>\n",
              "      <td>https://www.thehindu.com/news/national/telanga...</td>\n",
              "      <td>https://www.thehindugroup.com/termsofuse.html</td>\n",
              "    </tr>\n",
              "    <tr>\n",
              "      <th>45562</th>\n",
              "      <td>https://www.thehindu.com/news/national/telanga...</td>\n",
              "      <td>https://www.thehindugroup.com/privacy.html</td>\n",
              "    </tr>\n",
              "    <tr>\n",
              "      <th>45563</th>\n",
              "      <td>https://www.thehindu.com/news/national/telanga...</td>\n",
              "      <td>https://www.thehindu.com/news/national/telanga...</td>\n",
              "    </tr>\n",
              "  </tbody>\n",
              "</table>\n",
              "<p>45564 rows × 2 columns</p>\n",
              "</div>"
            ],
            "text/plain": [
              "                                                  Source  \\\n",
              "0                               http://www.thehindu.com/   \n",
              "1                              https://www.thehindu.com/   \n",
              "2                              https://www.thehindu.com/   \n",
              "3                              https://www.thehindu.com/   \n",
              "4                              https://www.thehindu.com/   \n",
              "...                                                  ...   \n",
              "45559  https://www.thehindu.com/news/national/telanga...   \n",
              "45560  https://www.thehindu.com/news/national/telanga...   \n",
              "45561  https://www.thehindu.com/news/national/telanga...   \n",
              "45562  https://www.thehindu.com/news/national/telanga...   \n",
              "45563  https://www.thehindu.com/news/national/telanga...   \n",
              "\n",
              "                                                  Target  \n",
              "0                              https://www.thehindu.com/  \n",
              "1                              https://www.thehindu.com/  \n",
              "2                              https://www.thehindu.com/  \n",
              "3                https://www.thehindu.com/news/national/  \n",
              "4           https://www.thehindu.com/news/international/  \n",
              "...                                                  ...  \n",
              "45559  https://frontline.thehindu.com/news/chandrayaa...  \n",
              "45560  https://sportstar.thehindu.com/athletics/jana-...  \n",
              "45561      https://www.thehindugroup.com/termsofuse.html  \n",
              "45562         https://www.thehindugroup.com/privacy.html  \n",
              "45563  https://www.thehindu.com/news/national/telanga...  \n",
              "\n",
              "[45564 rows x 2 columns]"
            ]
          },
          "execution_count": 11,
          "metadata": {},
          "output_type": "execute_result"
        }
      ],
      "source": [
        "df"
      ]
    },
    {
      "cell_type": "markdown",
      "metadata": {},
      "source": [
        "<h4>Checking for Duplicate/Multiple Entries"
      ]
    },
    {
      "cell_type": "code",
      "execution_count": 12,
      "metadata": {
        "colab": {
          "base_uri": "https://localhost:8080/"
        },
        "id": "hA1zb6UBbkvN",
        "outputId": "b7a92953-e96b-421c-819c-4604424a5e10"
      },
      "outputs": [
        {
          "data": {
            "text/plain": [
              "False    30422\n",
              "True     15142\n",
              "dtype: int64"
            ]
          },
          "execution_count": 12,
          "metadata": {},
          "output_type": "execute_result"
        }
      ],
      "source": [
        "df.duplicated().value_counts()"
      ]
    },
    {
      "cell_type": "markdown",
      "metadata": {},
      "source": [
        "<h4>Removing Duplicate Edges by Introducing Edge-Weight"
      ]
    },
    {
      "cell_type": "code",
      "execution_count": 13,
      "metadata": {
        "colab": {
          "base_uri": "https://localhost:8080/",
          "height": 423
        },
        "id": "jhu-nv2YbnEs",
        "outputId": "a11bb0b9-fb38-4b49-cfd6-dc7b431d0571"
      },
      "outputs": [
        {
          "data": {
            "text/html": [
              "<div>\n",
              "<style scoped>\n",
              "    .dataframe tbody tr th:only-of-type {\n",
              "        vertical-align: middle;\n",
              "    }\n",
              "\n",
              "    .dataframe tbody tr th {\n",
              "        vertical-align: top;\n",
              "    }\n",
              "\n",
              "    .dataframe thead th {\n",
              "        text-align: right;\n",
              "    }\n",
              "</style>\n",
              "<table border=\"1\" class=\"dataframe\">\n",
              "  <thead>\n",
              "    <tr style=\"text-align: right;\">\n",
              "      <th></th>\n",
              "      <th>Source</th>\n",
              "      <th>Target</th>\n",
              "      <th>Weight</th>\n",
              "    </tr>\n",
              "  </thead>\n",
              "  <tbody>\n",
              "    <tr>\n",
              "      <th>0</th>\n",
              "      <td>http://www.thehindu.com/</td>\n",
              "      <td>https://www.thehindu.com/</td>\n",
              "      <td>1</td>\n",
              "    </tr>\n",
              "    <tr>\n",
              "      <th>1</th>\n",
              "      <td>http://www.thehinduclassifieds.in/</td>\n",
              "      <td>https://thehinduads.com/</td>\n",
              "      <td>1</td>\n",
              "    </tr>\n",
              "    <tr>\n",
              "      <th>2</th>\n",
              "      <td>http://www.thehindugroup.in/subscribe/</td>\n",
              "      <td>https://pay.hindu.com/esubspay/</td>\n",
              "      <td>1</td>\n",
              "    </tr>\n",
              "    <tr>\n",
              "      <th>3</th>\n",
              "      <td>https://bit.ly/thiphone</td>\n",
              "      <td>http://ad.apps.fm/Xqu5BIBeCOREIqFMIJ5-hfE7og6f...</td>\n",
              "      <td>1</td>\n",
              "    </tr>\n",
              "    <tr>\n",
              "      <th>4</th>\n",
              "      <td>https://frontline.thehindu.com/cover-story/art...</td>\n",
              "      <td>https://frontline.thehindu.com/cover-story/lan...</td>\n",
              "      <td>1</td>\n",
              "    </tr>\n",
              "    <tr>\n",
              "      <th>...</th>\n",
              "      <td>...</td>\n",
              "      <td>...</td>\n",
              "      <td>...</td>\n",
              "    </tr>\n",
              "    <tr>\n",
              "      <th>30417</th>\n",
              "      <td>https://www.thehindu.com/videos/</td>\n",
              "      <td>https://www.thehindubusinessline.com/markets/s...</td>\n",
              "      <td>1</td>\n",
              "    </tr>\n",
              "    <tr>\n",
              "      <th>30418</th>\n",
              "      <td>https://www.thehindu.com/videos/</td>\n",
              "      <td>https://www.thehinducentre.com/</td>\n",
              "      <td>1</td>\n",
              "    </tr>\n",
              "    <tr>\n",
              "      <th>30419</th>\n",
              "      <td>https://www.thehindu.com/videos/</td>\n",
              "      <td>https://www.thehindugroup.com/privacy.html</td>\n",
              "      <td>1</td>\n",
              "    </tr>\n",
              "    <tr>\n",
              "      <th>30420</th>\n",
              "      <td>https://www.thehindu.com/videos/</td>\n",
              "      <td>https://www.thehindugroup.com/termsofuse.html</td>\n",
              "      <td>1</td>\n",
              "    </tr>\n",
              "    <tr>\n",
              "      <th>30421</th>\n",
              "      <td>https://www.thehindu.com/videos/</td>\n",
              "      <td>https://ywc.thehindu.com/</td>\n",
              "      <td>1</td>\n",
              "    </tr>\n",
              "  </tbody>\n",
              "</table>\n",
              "<p>30422 rows × 3 columns</p>\n",
              "</div>"
            ],
            "text/plain": [
              "                                                  Source  \\\n",
              "0                               http://www.thehindu.com/   \n",
              "1                     http://www.thehinduclassifieds.in/   \n",
              "2                 http://www.thehindugroup.in/subscribe/   \n",
              "3                                https://bit.ly/thiphone   \n",
              "4      https://frontline.thehindu.com/cover-story/art...   \n",
              "...                                                  ...   \n",
              "30417                   https://www.thehindu.com/videos/   \n",
              "30418                   https://www.thehindu.com/videos/   \n",
              "30419                   https://www.thehindu.com/videos/   \n",
              "30420                   https://www.thehindu.com/videos/   \n",
              "30421                   https://www.thehindu.com/videos/   \n",
              "\n",
              "                                                  Target  Weight  \n",
              "0                              https://www.thehindu.com/       1  \n",
              "1                               https://thehinduads.com/       1  \n",
              "2                        https://pay.hindu.com/esubspay/       1  \n",
              "3      http://ad.apps.fm/Xqu5BIBeCOREIqFMIJ5-hfE7og6f...       1  \n",
              "4      https://frontline.thehindu.com/cover-story/lan...       1  \n",
              "...                                                  ...     ...  \n",
              "30417  https://www.thehindubusinessline.com/markets/s...       1  \n",
              "30418                    https://www.thehinducentre.com/       1  \n",
              "30419         https://www.thehindugroup.com/privacy.html       1  \n",
              "30420      https://www.thehindugroup.com/termsofuse.html       1  \n",
              "30421                          https://ywc.thehindu.com/       1  \n",
              "\n",
              "[30422 rows x 3 columns]"
            ]
          },
          "execution_count": 13,
          "metadata": {},
          "output_type": "execute_result"
        }
      ],
      "source": [
        "df1 = df.groupby(['Source', 'Target']).size().reset_index(name='Weight')\n",
        "\n",
        "df1 = df1.drop_duplicates(subset=['Source', 'Target']).reset_index(drop=True)\n",
        "\n",
        "df1"
      ]
    },
    {
      "cell_type": "code",
      "execution_count": 14,
      "metadata": {
        "colab": {
          "base_uri": "https://localhost:8080/"
        },
        "id": "Blsql0Mic8Gs",
        "outputId": "840c48b5-2bd4-4a5c-b9b2-760335b7854d"
      },
      "outputs": [
        {
          "data": {
            "text/plain": [
              "45564"
            ]
          },
          "execution_count": 14,
          "metadata": {},
          "output_type": "execute_result"
        }
      ],
      "source": [
        "df1['Weight'].sum()"
      ]
    },
    {
      "cell_type": "code",
      "execution_count": 15,
      "metadata": {
        "colab": {
          "base_uri": "https://localhost:8080/"
        },
        "id": "WRQGHBGvdBxP",
        "outputId": "d9f7cf02-e326-4bf6-dc65-206ce1317632"
      },
      "outputs": [
        {
          "data": {
            "text/plain": [
              "1     21522\n",
              "2      5558\n",
              "3      2121\n",
              "4       801\n",
              "7       229\n",
              "5        86\n",
              "6        25\n",
              "8        17\n",
              "9        10\n",
              "10        9\n",
              "13        6\n",
              "15        5\n",
              "11        4\n",
              "12        4\n",
              "16        4\n",
              "20        3\n",
              "17        3\n",
              "24        3\n",
              "25        3\n",
              "14        2\n",
              "19        2\n",
              "18        1\n",
              "22        1\n",
              "78        1\n",
              "21        1\n",
              "88        1\n",
              "Name: Weight, dtype: int64"
            ]
          },
          "execution_count": 15,
          "metadata": {},
          "output_type": "execute_result"
        }
      ],
      "source": [
        "df1['Weight'].value_counts()"
      ]
    },
    {
      "cell_type": "markdown",
      "metadata": {},
      "source": [
        "<h4>Checking for Self-Links"
      ]
    },
    {
      "cell_type": "code",
      "execution_count": 16,
      "metadata": {
        "colab": {
          "base_uri": "https://localhost:8080/"
        },
        "id": "BHVWZ65cdbYf",
        "outputId": "fa6d959e-4d2f-4eed-d865-82f09bb94742"
      },
      "outputs": [
        {
          "data": {
            "text/plain": [
              "False    30209\n",
              "True       213\n",
              "dtype: int64"
            ]
          },
          "execution_count": 16,
          "metadata": {},
          "output_type": "execute_result"
        }
      ],
      "source": [
        "(df1['Source']==df1['Target']).value_counts()"
      ]
    },
    {
      "cell_type": "markdown",
      "metadata": {},
      "source": [
        "<h4>No. of Self-Links found = 213"
      ]
    },
    {
      "cell_type": "code",
      "execution_count": 17,
      "metadata": {
        "id": "Lc7DLhhmdqXr"
      },
      "outputs": [],
      "source": [
        "df1.to_csv('edge_list.csv')"
      ]
    },
    {
      "cell_type": "code",
      "execution_count": 18,
      "metadata": {
        "colab": {
          "base_uri": "https://localhost:8080/"
        },
        "id": "Z5DvSItHeH5t",
        "outputId": "db44acb3-7f6a-44e2-9912-81e2d223a73d"
      },
      "outputs": [
        {
          "data": {
            "text/plain": [
              "30422"
            ]
          },
          "execution_count": 18,
          "metadata": {},
          "output_type": "execute_result"
        }
      ],
      "source": [
        "df1['Target'].value_counts().sum()"
      ]
    },
    {
      "cell_type": "markdown",
      "metadata": {},
      "source": [
        "<h4>Self-Links"
      ]
    },
    {
      "cell_type": "code",
      "execution_count": 19,
      "metadata": {
        "colab": {
          "base_uri": "https://localhost:8080/",
          "height": 423
        },
        "id": "jy4D5igGo3eL",
        "outputId": "139f1b2f-edfc-4f5b-dedb-528c66775168"
      },
      "outputs": [
        {
          "data": {
            "text/html": [
              "<div>\n",
              "<style scoped>\n",
              "    .dataframe tbody tr th:only-of-type {\n",
              "        vertical-align: middle;\n",
              "    }\n",
              "\n",
              "    .dataframe tbody tr th {\n",
              "        vertical-align: top;\n",
              "    }\n",
              "\n",
              "    .dataframe thead th {\n",
              "        text-align: right;\n",
              "    }\n",
              "</style>\n",
              "<table border=\"1\" class=\"dataframe\">\n",
              "  <thead>\n",
              "    <tr style=\"text-align: right;\">\n",
              "      <th></th>\n",
              "      <th>Source</th>\n",
              "      <th>Target</th>\n",
              "      <th>Weight</th>\n",
              "    </tr>\n",
              "  </thead>\n",
              "  <tbody>\n",
              "    <tr>\n",
              "      <th>5</th>\n",
              "      <td>https://play.google.com/store/apps/details?id=...</td>\n",
              "      <td>https://play.google.com/store/apps/details?id=...</td>\n",
              "      <td>1</td>\n",
              "    </tr>\n",
              "    <tr>\n",
              "      <th>141</th>\n",
              "      <td>https://www.thehindu.com/</td>\n",
              "      <td>https://www.thehindu.com/</td>\n",
              "      <td>8</td>\n",
              "    </tr>\n",
              "    <tr>\n",
              "      <th>327</th>\n",
              "      <td>https://www.thehindu.com/aboutus/</td>\n",
              "      <td>https://www.thehindu.com/aboutus/</td>\n",
              "      <td>3</td>\n",
              "    </tr>\n",
              "    <tr>\n",
              "      <th>454</th>\n",
              "      <td>https://www.thehindu.com/advertise-with-us/</td>\n",
              "      <td>https://www.thehindu.com/advertise-with-us/</td>\n",
              "      <td>2</td>\n",
              "    </tr>\n",
              "    <tr>\n",
              "      <th>576</th>\n",
              "      <td>https://www.thehindu.com/archive/</td>\n",
              "      <td>https://www.thehindu.com/archive/</td>\n",
              "      <td>2</td>\n",
              "    </tr>\n",
              "    <tr>\n",
              "      <th>...</th>\n",
              "      <td>...</td>\n",
              "      <td>...</td>\n",
              "      <td>...</td>\n",
              "    </tr>\n",
              "    <tr>\n",
              "      <th>29842</th>\n",
              "      <td>https://www.thehindu.com/telugu/editorial/</td>\n",
              "      <td>https://www.thehindu.com/telugu/editorial/</td>\n",
              "      <td>2</td>\n",
              "    </tr>\n",
              "    <tr>\n",
              "      <th>29984</th>\n",
              "      <td>https://www.thehindu.com/termsofuse/</td>\n",
              "      <td>https://www.thehindu.com/termsofuse/</td>\n",
              "      <td>2</td>\n",
              "    </tr>\n",
              "    <tr>\n",
              "      <th>30151</th>\n",
              "      <td>https://www.thehindu.com/topic/The_Hindu_Expla...</td>\n",
              "      <td>https://www.thehindu.com/topic/The_Hindu_Expla...</td>\n",
              "      <td>1</td>\n",
              "    </tr>\n",
              "    <tr>\n",
              "      <th>30275</th>\n",
              "      <td>https://www.thehindu.com/values/</td>\n",
              "      <td>https://www.thehindu.com/values/</td>\n",
              "      <td>2</td>\n",
              "    </tr>\n",
              "    <tr>\n",
              "      <th>30414</th>\n",
              "      <td>https://www.thehindu.com/videos/</td>\n",
              "      <td>https://www.thehindu.com/videos/</td>\n",
              "      <td>3</td>\n",
              "    </tr>\n",
              "  </tbody>\n",
              "</table>\n",
              "<p>213 rows × 3 columns</p>\n",
              "</div>"
            ],
            "text/plain": [
              "                                                  Source  \\\n",
              "5      https://play.google.com/store/apps/details?id=...   \n",
              "141                            https://www.thehindu.com/   \n",
              "327                    https://www.thehindu.com/aboutus/   \n",
              "454          https://www.thehindu.com/advertise-with-us/   \n",
              "576                    https://www.thehindu.com/archive/   \n",
              "...                                                  ...   \n",
              "29842         https://www.thehindu.com/telugu/editorial/   \n",
              "29984               https://www.thehindu.com/termsofuse/   \n",
              "30151  https://www.thehindu.com/topic/The_Hindu_Expla...   \n",
              "30275                   https://www.thehindu.com/values/   \n",
              "30414                   https://www.thehindu.com/videos/   \n",
              "\n",
              "                                                  Target  Weight  \n",
              "5      https://play.google.com/store/apps/details?id=...       1  \n",
              "141                            https://www.thehindu.com/       8  \n",
              "327                    https://www.thehindu.com/aboutus/       3  \n",
              "454          https://www.thehindu.com/advertise-with-us/       2  \n",
              "576                    https://www.thehindu.com/archive/       2  \n",
              "...                                                  ...     ...  \n",
              "29842         https://www.thehindu.com/telugu/editorial/       2  \n",
              "29984               https://www.thehindu.com/termsofuse/       2  \n",
              "30151  https://www.thehindu.com/topic/The_Hindu_Expla...       1  \n",
              "30275                   https://www.thehindu.com/values/       2  \n",
              "30414                   https://www.thehindu.com/videos/       3  \n",
              "\n",
              "[213 rows x 3 columns]"
            ]
          },
          "execution_count": 19,
          "metadata": {},
          "output_type": "execute_result"
        }
      ],
      "source": [
        "df1[(df1['Source']==df1['Target'])]"
      ]
    },
    {
      "cell_type": "markdown",
      "metadata": {},
      "source": [
        "<h4>Checking for Isalnds in the Network"
      ]
    },
    {
      "cell_type": "code",
      "execution_count": 20,
      "metadata": {
        "id": "pENT2y2_ttRd"
      },
      "outputs": [],
      "source": [
        "islands = []\n",
        "idx = []\n",
        "for src in df1[(df1['Source']==df1['Target'])]['Source']:\n",
        "  if df1[df1['Source']==src].shape[0] == 1:\n",
        "    idx.append(df1[df1['Source']==src].index[0])\n",
        "    islands.append(src)"
      ]
    },
    {
      "cell_type": "code",
      "execution_count": 21,
      "metadata": {
        "colab": {
          "base_uri": "https://localhost:8080/"
        },
        "id": "MNN9RTL8t4Hf",
        "outputId": "97ab8c4e-8ac0-4c65-9f10-0b04b612bc80"
      },
      "outputs": [
        {
          "name": "stdout",
          "output_type": "stream",
          "text": [
            "['https://www.thehindu.com/subscription/', 'https://www.thehindu.com/subscription/freetrial/']\n",
            "[28953, 28955]\n"
          ]
        }
      ],
      "source": [
        "print(islands)\n",
        "print(idx)"
      ]
    },
    {
      "cell_type": "code",
      "execution_count": 23,
      "metadata": {},
      "outputs": [
        {
          "data": {
            "text/html": [
              "<div>\n",
              "<style scoped>\n",
              "    .dataframe tbody tr th:only-of-type {\n",
              "        vertical-align: middle;\n",
              "    }\n",
              "\n",
              "    .dataframe tbody tr th {\n",
              "        vertical-align: top;\n",
              "    }\n",
              "\n",
              "    .dataframe thead th {\n",
              "        text-align: right;\n",
              "    }\n",
              "</style>\n",
              "<table border=\"1\" class=\"dataframe\">\n",
              "  <thead>\n",
              "    <tr style=\"text-align: right;\">\n",
              "      <th></th>\n",
              "      <th>Source</th>\n",
              "      <th>Target</th>\n",
              "      <th>Weight</th>\n",
              "    </tr>\n",
              "  </thead>\n",
              "  <tbody>\n",
              "    <tr>\n",
              "      <th>289</th>\n",
              "      <td>https://www.thehindu.com/</td>\n",
              "      <td>https://www.thehindu.com/subscription/</td>\n",
              "      <td>3</td>\n",
              "    </tr>\n",
              "    <tr>\n",
              "      <th>416</th>\n",
              "      <td>https://www.thehindu.com/aboutus/</td>\n",
              "      <td>https://www.thehindu.com/subscription/</td>\n",
              "      <td>3</td>\n",
              "    </tr>\n",
              "    <tr>\n",
              "      <th>541</th>\n",
              "      <td>https://www.thehindu.com/advertise-with-us/</td>\n",
              "      <td>https://www.thehindu.com/subscription/</td>\n",
              "      <td>3</td>\n",
              "    </tr>\n",
              "    <tr>\n",
              "      <th>841</th>\n",
              "      <td>https://www.thehindu.com/archive/</td>\n",
              "      <td>https://www.thehindu.com/subscription/</td>\n",
              "      <td>3</td>\n",
              "    </tr>\n",
              "    <tr>\n",
              "      <th>985</th>\n",
              "      <td>https://www.thehindu.com/bengali/editorial/</td>\n",
              "      <td>https://www.thehindu.com/subscription/</td>\n",
              "      <td>3</td>\n",
              "    </tr>\n",
              "    <tr>\n",
              "      <th>...</th>\n",
              "      <td>...</td>\n",
              "      <td>...</td>\n",
              "      <td>...</td>\n",
              "    </tr>\n",
              "    <tr>\n",
              "      <th>29837</th>\n",
              "      <td>https://www.thehindu.com/telugu/editorial/</td>\n",
              "      <td>https://www.thehindu.com/subscription/</td>\n",
              "      <td>3</td>\n",
              "    </tr>\n",
              "    <tr>\n",
              "      <th>29980</th>\n",
              "      <td>https://www.thehindu.com/termsofuse/</td>\n",
              "      <td>https://www.thehindu.com/subscription/</td>\n",
              "      <td>3</td>\n",
              "    </tr>\n",
              "    <tr>\n",
              "      <th>30147</th>\n",
              "      <td>https://www.thehindu.com/topic/The_Hindu_Expla...</td>\n",
              "      <td>https://www.thehindu.com/subscription/</td>\n",
              "      <td>3</td>\n",
              "    </tr>\n",
              "    <tr>\n",
              "      <th>30269</th>\n",
              "      <td>https://www.thehindu.com/values/</td>\n",
              "      <td>https://www.thehindu.com/subscription/</td>\n",
              "      <td>3</td>\n",
              "    </tr>\n",
              "    <tr>\n",
              "      <th>30409</th>\n",
              "      <td>https://www.thehindu.com/videos/</td>\n",
              "      <td>https://www.thehindu.com/subscription/</td>\n",
              "      <td>3</td>\n",
              "    </tr>\n",
              "  </tbody>\n",
              "</table>\n",
              "<p>212 rows × 3 columns</p>\n",
              "</div>"
            ],
            "text/plain": [
              "                                                  Source  \\\n",
              "289                            https://www.thehindu.com/   \n",
              "416                    https://www.thehindu.com/aboutus/   \n",
              "541          https://www.thehindu.com/advertise-with-us/   \n",
              "841                    https://www.thehindu.com/archive/   \n",
              "985          https://www.thehindu.com/bengali/editorial/   \n",
              "...                                                  ...   \n",
              "29837         https://www.thehindu.com/telugu/editorial/   \n",
              "29980               https://www.thehindu.com/termsofuse/   \n",
              "30147  https://www.thehindu.com/topic/The_Hindu_Expla...   \n",
              "30269                   https://www.thehindu.com/values/   \n",
              "30409                   https://www.thehindu.com/videos/   \n",
              "\n",
              "                                       Target  Weight  \n",
              "289    https://www.thehindu.com/subscription/       3  \n",
              "416    https://www.thehindu.com/subscription/       3  \n",
              "541    https://www.thehindu.com/subscription/       3  \n",
              "841    https://www.thehindu.com/subscription/       3  \n",
              "985    https://www.thehindu.com/subscription/       3  \n",
              "...                                       ...     ...  \n",
              "29837  https://www.thehindu.com/subscription/       3  \n",
              "29980  https://www.thehindu.com/subscription/       3  \n",
              "30147  https://www.thehindu.com/subscription/       3  \n",
              "30269  https://www.thehindu.com/subscription/       3  \n",
              "30409  https://www.thehindu.com/subscription/       3  \n",
              "\n",
              "[212 rows x 3 columns]"
            ]
          },
          "execution_count": 23,
          "metadata": {},
          "output_type": "execute_result"
        }
      ],
      "source": [
        "df1[df1['Target']=='https://www.thehindu.com/subscription/']"
      ]
    },
    {
      "cell_type": "code",
      "execution_count": 24,
      "metadata": {},
      "outputs": [
        {
          "data": {
            "text/html": [
              "<div>\n",
              "<style scoped>\n",
              "    .dataframe tbody tr th:only-of-type {\n",
              "        vertical-align: middle;\n",
              "    }\n",
              "\n",
              "    .dataframe tbody tr th {\n",
              "        vertical-align: top;\n",
              "    }\n",
              "\n",
              "    .dataframe thead th {\n",
              "        text-align: right;\n",
              "    }\n",
              "</style>\n",
              "<table border=\"1\" class=\"dataframe\">\n",
              "  <thead>\n",
              "    <tr style=\"text-align: right;\">\n",
              "      <th></th>\n",
              "      <th>Source</th>\n",
              "      <th>Target</th>\n",
              "      <th>Weight</th>\n",
              "    </tr>\n",
              "  </thead>\n",
              "  <tbody>\n",
              "    <tr>\n",
              "      <th>28955</th>\n",
              "      <td>https://www.thehindu.com/subscription/freetrial/</td>\n",
              "      <td>https://www.thehindu.com/subscription/freetrial/</td>\n",
              "      <td>1</td>\n",
              "    </tr>\n",
              "    <tr>\n",
              "      <th>28956</th>\n",
              "      <td>https://www.thehindu.com/subscription/freetria...</td>\n",
              "      <td>https://www.thehindu.com/subscription/freetrial/</td>\n",
              "      <td>1</td>\n",
              "    </tr>\n",
              "    <tr>\n",
              "      <th>28957</th>\n",
              "      <td>https://www.thehindu.com/subscription/freetria...</td>\n",
              "      <td>https://www.thehindu.com/subscription/freetrial/</td>\n",
              "      <td>1</td>\n",
              "    </tr>\n",
              "    <tr>\n",
              "      <th>28958</th>\n",
              "      <td>https://www.thehindu.com/subscription/freetria...</td>\n",
              "      <td>https://www.thehindu.com/subscription/freetrial/</td>\n",
              "      <td>1</td>\n",
              "    </tr>\n",
              "    <tr>\n",
              "      <th>28959</th>\n",
              "      <td>https://www.thehindu.com/subscription/freetria...</td>\n",
              "      <td>https://www.thehindu.com/subscription/freetrial/</td>\n",
              "      <td>1</td>\n",
              "    </tr>\n",
              "    <tr>\n",
              "      <th>28960</th>\n",
              "      <td>https://www.thehindu.com/subscription/freetria...</td>\n",
              "      <td>https://www.thehindu.com/subscription/freetrial/</td>\n",
              "      <td>1</td>\n",
              "    </tr>\n",
              "  </tbody>\n",
              "</table>\n",
              "</div>"
            ],
            "text/plain": [
              "                                                  Source  \\\n",
              "28955   https://www.thehindu.com/subscription/freetrial/   \n",
              "28956  https://www.thehindu.com/subscription/freetria...   \n",
              "28957  https://www.thehindu.com/subscription/freetria...   \n",
              "28958  https://www.thehindu.com/subscription/freetria...   \n",
              "28959  https://www.thehindu.com/subscription/freetria...   \n",
              "28960  https://www.thehindu.com/subscription/freetria...   \n",
              "\n",
              "                                                 Target  Weight  \n",
              "28955  https://www.thehindu.com/subscription/freetrial/       1  \n",
              "28956  https://www.thehindu.com/subscription/freetrial/       1  \n",
              "28957  https://www.thehindu.com/subscription/freetrial/       1  \n",
              "28958  https://www.thehindu.com/subscription/freetrial/       1  \n",
              "28959  https://www.thehindu.com/subscription/freetrial/       1  \n",
              "28960  https://www.thehindu.com/subscription/freetrial/       1  "
            ]
          },
          "execution_count": 24,
          "metadata": {},
          "output_type": "execute_result"
        }
      ],
      "source": [
        "df1[df1['Target']=='https://www.thehindu.com/subscription/freetrial/']"
      ]
    },
    {
      "cell_type": "markdown",
      "metadata": {},
      "source": [
        "<h5>There are No Islands in the Network"
      ]
    },
    {
      "cell_type": "markdown",
      "metadata": {},
      "source": [
        "<h4>Introducing Node Ids inplace of Website URLs"
      ]
    },
    {
      "cell_type": "code",
      "execution_count": 33,
      "metadata": {
        "id": "7bYvN35OyWgH"
      },
      "outputs": [],
      "source": [
        "node_ids = {'node':[]}\n",
        "\n",
        "for node in df1['Source']:\n",
        "  if node not in node_ids['node']:\n",
        "    node_ids['node'].append(node)\n",
        "\n",
        "for node in df1['Target']:\n",
        "  if node not in node_ids['node']:\n",
        "    node_ids['node'].append(node)\n"
      ]
    },
    {
      "cell_type": "code",
      "execution_count": 34,
      "metadata": {
        "id": "_W3nUIfwnfA5"
      },
      "outputs": [],
      "source": [
        "node_ids = pd.DataFrame(node_ids)\n",
        "ids = np.arange(0, node_ids.shape[0])\n",
        "node_ids['Id'] = ids"
      ]
    },
    {
      "cell_type": "code",
      "execution_count": 37,
      "metadata": {
        "colab": {
          "base_uri": "https://localhost:8080/",
          "height": 423
        },
        "id": "dmDSMcIAoVn7",
        "outputId": "ad2252b4-4495-47cc-c1cf-1a418c313d66"
      },
      "outputs": [
        {
          "data": {
            "text/html": [
              "<div>\n",
              "<style scoped>\n",
              "    .dataframe tbody tr th:only-of-type {\n",
              "        vertical-align: middle;\n",
              "    }\n",
              "\n",
              "    .dataframe tbody tr th {\n",
              "        vertical-align: top;\n",
              "    }\n",
              "\n",
              "    .dataframe thead th {\n",
              "        text-align: right;\n",
              "    }\n",
              "</style>\n",
              "<table border=\"1\" class=\"dataframe\">\n",
              "  <thead>\n",
              "    <tr style=\"text-align: right;\">\n",
              "      <th></th>\n",
              "      <th>node</th>\n",
              "      <th>Id</th>\n",
              "    </tr>\n",
              "  </thead>\n",
              "  <tbody>\n",
              "    <tr>\n",
              "      <th>0</th>\n",
              "      <td>http://www.thehindu.com/</td>\n",
              "      <td>0</td>\n",
              "    </tr>\n",
              "    <tr>\n",
              "      <th>1</th>\n",
              "      <td>http://www.thehinduclassifieds.in/</td>\n",
              "      <td>1</td>\n",
              "    </tr>\n",
              "    <tr>\n",
              "      <th>2</th>\n",
              "      <td>http://www.thehindugroup.in/subscribe/</td>\n",
              "      <td>2</td>\n",
              "    </tr>\n",
              "    <tr>\n",
              "      <th>3</th>\n",
              "      <td>https://bit.ly/thiphone</td>\n",
              "      <td>3</td>\n",
              "    </tr>\n",
              "    <tr>\n",
              "      <th>4</th>\n",
              "      <td>https://frontline.thehindu.com/cover-story/art...</td>\n",
              "      <td>4</td>\n",
              "    </tr>\n",
              "    <tr>\n",
              "      <th>...</th>\n",
              "      <td>...</td>\n",
              "      <td>...</td>\n",
              "    </tr>\n",
              "    <tr>\n",
              "      <th>3215</th>\n",
              "      <td>https://www.thehindu.com/life-and-style/?type=...</td>\n",
              "      <td>3215</td>\n",
              "    </tr>\n",
              "    <tr>\n",
              "      <th>3216</th>\n",
              "      <td>https://www.thehindu.com/news/cities/chennai/w...</td>\n",
              "      <td>3216</td>\n",
              "    </tr>\n",
              "    <tr>\n",
              "      <th>3217</th>\n",
              "      <td>https://www.thehindu.com/news/cities/chennai/w...</td>\n",
              "      <td>3217</td>\n",
              "    </tr>\n",
              "    <tr>\n",
              "      <th>3218</th>\n",
              "      <td>https://www.thehindu.com/news/national/?type=v...</td>\n",
              "      <td>3218</td>\n",
              "    </tr>\n",
              "    <tr>\n",
              "      <th>3219</th>\n",
              "      <td>https://www.thehindu.com/news/national/karnata...</td>\n",
              "      <td>3219</td>\n",
              "    </tr>\n",
              "  </tbody>\n",
              "</table>\n",
              "<p>3220 rows × 2 columns</p>\n",
              "</div>"
            ],
            "text/plain": [
              "                                                   node    Id\n",
              "0                              http://www.thehindu.com/     0\n",
              "1                    http://www.thehinduclassifieds.in/     1\n",
              "2                http://www.thehindugroup.in/subscribe/     2\n",
              "3                               https://bit.ly/thiphone     3\n",
              "4     https://frontline.thehindu.com/cover-story/art...     4\n",
              "...                                                 ...   ...\n",
              "3215  https://www.thehindu.com/life-and-style/?type=...  3215\n",
              "3216  https://www.thehindu.com/news/cities/chennai/w...  3216\n",
              "3217  https://www.thehindu.com/news/cities/chennai/w...  3217\n",
              "3218  https://www.thehindu.com/news/national/?type=v...  3218\n",
              "3219  https://www.thehindu.com/news/national/karnata...  3219\n",
              "\n",
              "[3220 rows x 2 columns]"
            ]
          },
          "execution_count": 37,
          "metadata": {},
          "output_type": "execute_result"
        }
      ],
      "source": [
        "node_ids"
      ]
    },
    {
      "cell_type": "code",
      "execution_count": 38,
      "metadata": {
        "id": "JhhnhWJHonJH"
      },
      "outputs": [],
      "source": [
        "node_ids['Id'] = node_ids['Id'].apply(lambda x: \"v\"+str(x+1)) "
      ]
    },
    {
      "cell_type": "markdown",
      "metadata": {},
      "source": [
        "<h4>Nodes Table Created"
      ]
    },
    {
      "cell_type": "code",
      "execution_count": 39,
      "metadata": {
        "id": "n-wjaQh9pBOK"
      },
      "outputs": [
        {
          "data": {
            "text/html": [
              "<div>\n",
              "<style scoped>\n",
              "    .dataframe tbody tr th:only-of-type {\n",
              "        vertical-align: middle;\n",
              "    }\n",
              "\n",
              "    .dataframe tbody tr th {\n",
              "        vertical-align: top;\n",
              "    }\n",
              "\n",
              "    .dataframe thead th {\n",
              "        text-align: right;\n",
              "    }\n",
              "</style>\n",
              "<table border=\"1\" class=\"dataframe\">\n",
              "  <thead>\n",
              "    <tr style=\"text-align: right;\">\n",
              "      <th></th>\n",
              "      <th>node</th>\n",
              "      <th>Id</th>\n",
              "    </tr>\n",
              "  </thead>\n",
              "  <tbody>\n",
              "    <tr>\n",
              "      <th>0</th>\n",
              "      <td>http://www.thehindu.com/</td>\n",
              "      <td>v1</td>\n",
              "    </tr>\n",
              "    <tr>\n",
              "      <th>1</th>\n",
              "      <td>http://www.thehinduclassifieds.in/</td>\n",
              "      <td>v2</td>\n",
              "    </tr>\n",
              "    <tr>\n",
              "      <th>2</th>\n",
              "      <td>http://www.thehindugroup.in/subscribe/</td>\n",
              "      <td>v3</td>\n",
              "    </tr>\n",
              "    <tr>\n",
              "      <th>3</th>\n",
              "      <td>https://bit.ly/thiphone</td>\n",
              "      <td>v4</td>\n",
              "    </tr>\n",
              "    <tr>\n",
              "      <th>4</th>\n",
              "      <td>https://frontline.thehindu.com/cover-story/art...</td>\n",
              "      <td>v5</td>\n",
              "    </tr>\n",
              "    <tr>\n",
              "      <th>...</th>\n",
              "      <td>...</td>\n",
              "      <td>...</td>\n",
              "    </tr>\n",
              "    <tr>\n",
              "      <th>3215</th>\n",
              "      <td>https://www.thehindu.com/life-and-style/?type=...</td>\n",
              "      <td>v3216</td>\n",
              "    </tr>\n",
              "    <tr>\n",
              "      <th>3216</th>\n",
              "      <td>https://www.thehindu.com/news/cities/chennai/w...</td>\n",
              "      <td>v3217</td>\n",
              "    </tr>\n",
              "    <tr>\n",
              "      <th>3217</th>\n",
              "      <td>https://www.thehindu.com/news/cities/chennai/w...</td>\n",
              "      <td>v3218</td>\n",
              "    </tr>\n",
              "    <tr>\n",
              "      <th>3218</th>\n",
              "      <td>https://www.thehindu.com/news/national/?type=v...</td>\n",
              "      <td>v3219</td>\n",
              "    </tr>\n",
              "    <tr>\n",
              "      <th>3219</th>\n",
              "      <td>https://www.thehindu.com/news/national/karnata...</td>\n",
              "      <td>v3220</td>\n",
              "    </tr>\n",
              "  </tbody>\n",
              "</table>\n",
              "<p>3220 rows × 2 columns</p>\n",
              "</div>"
            ],
            "text/plain": [
              "                                                   node     Id\n",
              "0                              http://www.thehindu.com/     v1\n",
              "1                    http://www.thehinduclassifieds.in/     v2\n",
              "2                http://www.thehindugroup.in/subscribe/     v3\n",
              "3                               https://bit.ly/thiphone     v4\n",
              "4     https://frontline.thehindu.com/cover-story/art...     v5\n",
              "...                                                 ...    ...\n",
              "3215  https://www.thehindu.com/life-and-style/?type=...  v3216\n",
              "3216  https://www.thehindu.com/news/cities/chennai/w...  v3217\n",
              "3217  https://www.thehindu.com/news/cities/chennai/w...  v3218\n",
              "3218  https://www.thehindu.com/news/national/?type=v...  v3219\n",
              "3219  https://www.thehindu.com/news/national/karnata...  v3220\n",
              "\n",
              "[3220 rows x 2 columns]"
            ]
          },
          "execution_count": 39,
          "metadata": {},
          "output_type": "execute_result"
        }
      ],
      "source": [
        "node_ids"
      ]
    },
    {
      "cell_type": "code",
      "execution_count": 49,
      "metadata": {},
      "outputs": [],
      "source": [
        "df1['Source'] = df1['Source'].apply(lambda x: node_ids[node_ids['node']==x]['Id'].iloc[0])"
      ]
    },
    {
      "cell_type": "code",
      "execution_count": 51,
      "metadata": {},
      "outputs": [],
      "source": [
        "df1['Target'] = df1['Target'].apply(lambda x: node_ids[node_ids['node']==x]['Id'].iloc[0])"
      ]
    },
    {
      "cell_type": "markdown",
      "metadata": {},
      "source": [
        "<h4>Edge-List Table with Node Ids Created"
      ]
    },
    {
      "cell_type": "code",
      "execution_count": 52,
      "metadata": {},
      "outputs": [
        {
          "data": {
            "text/html": [
              "<div>\n",
              "<style scoped>\n",
              "    .dataframe tbody tr th:only-of-type {\n",
              "        vertical-align: middle;\n",
              "    }\n",
              "\n",
              "    .dataframe tbody tr th {\n",
              "        vertical-align: top;\n",
              "    }\n",
              "\n",
              "    .dataframe thead th {\n",
              "        text-align: right;\n",
              "    }\n",
              "</style>\n",
              "<table border=\"1\" class=\"dataframe\">\n",
              "  <thead>\n",
              "    <tr style=\"text-align: right;\">\n",
              "      <th></th>\n",
              "      <th>Source</th>\n",
              "      <th>Target</th>\n",
              "      <th>Weight</th>\n",
              "    </tr>\n",
              "  </thead>\n",
              "  <tbody>\n",
              "    <tr>\n",
              "      <th>0</th>\n",
              "      <td>v1</td>\n",
              "      <td>v8</td>\n",
              "      <td>1</td>\n",
              "    </tr>\n",
              "    <tr>\n",
              "      <th>1</th>\n",
              "      <td>v2</td>\n",
              "      <td>v227</td>\n",
              "      <td>1</td>\n",
              "    </tr>\n",
              "    <tr>\n",
              "      <th>2</th>\n",
              "      <td>v3</td>\n",
              "      <td>v228</td>\n",
              "      <td>1</td>\n",
              "    </tr>\n",
              "    <tr>\n",
              "      <th>3</th>\n",
              "      <td>v4</td>\n",
              "      <td>v229</td>\n",
              "      <td>1</td>\n",
              "    </tr>\n",
              "    <tr>\n",
              "      <th>4</th>\n",
              "      <td>v5</td>\n",
              "      <td>v230</td>\n",
              "      <td>1</td>\n",
              "    </tr>\n",
              "    <tr>\n",
              "      <th>...</th>\n",
              "      <td>...</td>\n",
              "      <td>...</td>\n",
              "      <td>...</td>\n",
              "    </tr>\n",
              "    <tr>\n",
              "      <th>30417</th>\n",
              "      <td>v226</td>\n",
              "      <td>v379</td>\n",
              "      <td>1</td>\n",
              "    </tr>\n",
              "    <tr>\n",
              "      <th>30418</th>\n",
              "      <td>v226</td>\n",
              "      <td>v381</td>\n",
              "      <td>1</td>\n",
              "    </tr>\n",
              "    <tr>\n",
              "      <th>30419</th>\n",
              "      <td>v226</td>\n",
              "      <td>v382</td>\n",
              "      <td>1</td>\n",
              "    </tr>\n",
              "    <tr>\n",
              "      <th>30420</th>\n",
              "      <td>v226</td>\n",
              "      <td>v383</td>\n",
              "      <td>1</td>\n",
              "    </tr>\n",
              "    <tr>\n",
              "      <th>30421</th>\n",
              "      <td>v226</td>\n",
              "      <td>v384</td>\n",
              "      <td>1</td>\n",
              "    </tr>\n",
              "  </tbody>\n",
              "</table>\n",
              "<p>30422 rows × 3 columns</p>\n",
              "</div>"
            ],
            "text/plain": [
              "      Source Target  Weight\n",
              "0         v1     v8       1\n",
              "1         v2   v227       1\n",
              "2         v3   v228       1\n",
              "3         v4   v229       1\n",
              "4         v5   v230       1\n",
              "...      ...    ...     ...\n",
              "30417   v226   v379       1\n",
              "30418   v226   v381       1\n",
              "30419   v226   v382       1\n",
              "30420   v226   v383       1\n",
              "30421   v226   v384       1\n",
              "\n",
              "[30422 rows x 3 columns]"
            ]
          },
          "execution_count": 52,
          "metadata": {},
          "output_type": "execute_result"
        }
      ],
      "source": [
        "df1"
      ]
    },
    {
      "cell_type": "code",
      "execution_count": 64,
      "metadata": {},
      "outputs": [
        {
          "data": {
            "text/plain": [
              "array(['v8', 'v227', 'v228', ..., 'v3218', 'v3219', 'v3220'], dtype=object)"
            ]
          },
          "execution_count": 64,
          "metadata": {},
          "output_type": "execute_result"
        }
      ],
      "source": [
        "df1['Target'].unique()"
      ]
    },
    {
      "cell_type": "code",
      "execution_count": 69,
      "metadata": {},
      "outputs": [
        {
          "data": {
            "text/plain": [
              "False    3219\n",
              "True        1\n",
              "Name: Id, dtype: int64"
            ]
          },
          "execution_count": 69,
          "metadata": {},
          "output_type": "execute_result"
        }
      ],
      "source": [
        "node_ids['Id'].apply(lambda x: True if x not in df1['Target'].unique() else False).value_counts()"
      ]
    },
    {
      "cell_type": "markdown",
      "metadata": {},
      "source": [
        "<h4>Exporting Edge-List as CSV file"
      ]
    },
    {
      "cell_type": "code",
      "execution_count": 71,
      "metadata": {},
      "outputs": [],
      "source": [
        "df1.to_csv('edge_list.csv')"
      ]
    },
    {
      "cell_type": "markdown",
      "metadata": {},
      "source": [
        "<h4>Exporting Nodes as CSV file"
      ]
    },
    {
      "cell_type": "code",
      "execution_count": 73,
      "metadata": {},
      "outputs": [],
      "source": [
        "node_ids.to_csv('node_ids.csv')"
      ]
    },
    {
      "cell_type": "markdown",
      "metadata": {},
      "source": [
        "<h2>Data Post Processing: Nodes Data Analysis"
      ]
    },
    {
      "cell_type": "code",
      "execution_count": 47,
      "metadata": {},
      "outputs": [
        {
          "data": {
            "text/html": [
              "<div>\n",
              "<style scoped>\n",
              "    .dataframe tbody tr th:only-of-type {\n",
              "        vertical-align: middle;\n",
              "    }\n",
              "\n",
              "    .dataframe tbody tr th {\n",
              "        vertical-align: top;\n",
              "    }\n",
              "\n",
              "    .dataframe thead th {\n",
              "        text-align: right;\n",
              "    }\n",
              "</style>\n",
              "<table border=\"1\" class=\"dataframe\">\n",
              "  <thead>\n",
              "    <tr style=\"text-align: right;\">\n",
              "      <th></th>\n",
              "      <th>Id</th>\n",
              "      <th>node</th>\n",
              "      <th>InDegree</th>\n",
              "      <th>OutDegree</th>\n",
              "      <th>BetweennessCentrality</th>\n",
              "      <th>PageRank</th>\n",
              "    </tr>\n",
              "  </thead>\n",
              "  <tbody>\n",
              "    <tr>\n",
              "      <th>0</th>\n",
              "      <td>v8</td>\n",
              "      <td>https://www.thehindu.com/</td>\n",
              "      <td>212</td>\n",
              "      <td>183</td>\n",
              "      <td>66106.822956</td>\n",
              "      <td>0.003961</td>\n",
              "    </tr>\n",
              "    <tr>\n",
              "      <th>1</th>\n",
              "      <td>v209</td>\n",
              "      <td>https://www.thehindu.com/subscription/</td>\n",
              "      <td>212</td>\n",
              "      <td>1</td>\n",
              "      <td>0.000000</td>\n",
              "      <td>0.002444</td>\n",
              "    </tr>\n",
              "    <tr>\n",
              "      <th>2</th>\n",
              "      <td>v144</td>\n",
              "      <td>https://www.thehindu.com/opinion/</td>\n",
              "      <td>211</td>\n",
              "      <td>155</td>\n",
              "      <td>9988.837281</td>\n",
              "      <td>0.001826</td>\n",
              "    </tr>\n",
              "    <tr>\n",
              "      <th>3</th>\n",
              "      <td>v199</td>\n",
              "      <td>https://www.thehindu.com/sport/</td>\n",
              "      <td>211</td>\n",
              "      <td>130</td>\n",
              "      <td>1281.146225</td>\n",
              "      <td>0.001798</td>\n",
              "    </tr>\n",
              "    <tr>\n",
              "      <th>4</th>\n",
              "      <td>v15</td>\n",
              "      <td>https://www.thehindu.com/business/</td>\n",
              "      <td>211</td>\n",
              "      <td>145</td>\n",
              "      <td>3759.940696</td>\n",
              "      <td>0.001316</td>\n",
              "    </tr>\n",
              "    <tr>\n",
              "      <th>...</th>\n",
              "      <td>...</td>\n",
              "      <td>...</td>\n",
              "      <td>...</td>\n",
              "      <td>...</td>\n",
              "      <td>...</td>\n",
              "      <td>...</td>\n",
              "    </tr>\n",
              "    <tr>\n",
              "      <th>3215</th>\n",
              "      <td>v1266</td>\n",
              "      <td>https://www.thehindu.com/profile/author/Litta-...</td>\n",
              "      <td>1</td>\n",
              "      <td>0</td>\n",
              "      <td>0.000000</td>\n",
              "      <td>0.000269</td>\n",
              "    </tr>\n",
              "    <tr>\n",
              "      <th>3216</th>\n",
              "      <td>v1269</td>\n",
              "      <td>https://www.thehindu.com/profile/author/Pallav...</td>\n",
              "      <td>1</td>\n",
              "      <td>0</td>\n",
              "      <td>0.000000</td>\n",
              "      <td>0.000269</td>\n",
              "    </tr>\n",
              "    <tr>\n",
              "      <th>3217</th>\n",
              "      <td>v1272</td>\n",
              "      <td>https://www.thehindu.com/profile/author/Ranjan...</td>\n",
              "      <td>1</td>\n",
              "      <td>0</td>\n",
              "      <td>0.000000</td>\n",
              "      <td>0.000269</td>\n",
              "    </tr>\n",
              "    <tr>\n",
              "      <th>3218</th>\n",
              "      <td>v1301</td>\n",
              "      <td>https://www.thehindu.com/todays-paper/tp-natio...</td>\n",
              "      <td>1</td>\n",
              "      <td>0</td>\n",
              "      <td>0.000000</td>\n",
              "      <td>0.000269</td>\n",
              "    </tr>\n",
              "    <tr>\n",
              "      <th>3219</th>\n",
              "      <td>v1</td>\n",
              "      <td>http://www.thehindu.com/</td>\n",
              "      <td>0</td>\n",
              "      <td>1</td>\n",
              "      <td>0.000000</td>\n",
              "      <td>0.000268</td>\n",
              "    </tr>\n",
              "  </tbody>\n",
              "</table>\n",
              "<p>3220 rows × 6 columns</p>\n",
              "</div>"
            ],
            "text/plain": [
              "         Id                                               node  InDegree  \\\n",
              "0        v8                          https://www.thehindu.com/       212   \n",
              "1      v209             https://www.thehindu.com/subscription/       212   \n",
              "2      v144                  https://www.thehindu.com/opinion/       211   \n",
              "3      v199                    https://www.thehindu.com/sport/       211   \n",
              "4       v15                 https://www.thehindu.com/business/       211   \n",
              "...     ...                                                ...       ...   \n",
              "3215  v1266  https://www.thehindu.com/profile/author/Litta-...         1   \n",
              "3216  v1269  https://www.thehindu.com/profile/author/Pallav...         1   \n",
              "3217  v1272  https://www.thehindu.com/profile/author/Ranjan...         1   \n",
              "3218  v1301  https://www.thehindu.com/todays-paper/tp-natio...         1   \n",
              "3219     v1                           http://www.thehindu.com/         0   \n",
              "\n",
              "      OutDegree  BetweennessCentrality  PageRank  \n",
              "0           183           66106.822956  0.003961  \n",
              "1             1               0.000000  0.002444  \n",
              "2           155            9988.837281  0.001826  \n",
              "3           130            1281.146225  0.001798  \n",
              "4           145            3759.940696  0.001316  \n",
              "...         ...                    ...       ...  \n",
              "3215          0               0.000000  0.000269  \n",
              "3216          0               0.000000  0.000269  \n",
              "3217          0               0.000000  0.000269  \n",
              "3218          0               0.000000  0.000269  \n",
              "3219          1               0.000000  0.000268  \n",
              "\n",
              "[3220 rows x 6 columns]"
            ]
          },
          "execution_count": 47,
          "metadata": {},
          "output_type": "execute_result"
        }
      ],
      "source": [
        "df2 = pd.read_excel('Node_Stats.xlsx')\n",
        "\n",
        "df2"
      ]
    },
    {
      "cell_type": "markdown",
      "metadata": {},
      "source": [
        "<h4>Checking for Sidewalk Links"
      ]
    },
    {
      "cell_type": "code",
      "execution_count": 48,
      "metadata": {},
      "outputs": [
        {
          "data": {
            "text/html": [
              "<div>\n",
              "<style scoped>\n",
              "    .dataframe tbody tr th:only-of-type {\n",
              "        vertical-align: middle;\n",
              "    }\n",
              "\n",
              "    .dataframe tbody tr th {\n",
              "        vertical-align: top;\n",
              "    }\n",
              "\n",
              "    .dataframe thead th {\n",
              "        text-align: right;\n",
              "    }\n",
              "</style>\n",
              "<table border=\"1\" class=\"dataframe\">\n",
              "  <thead>\n",
              "    <tr style=\"text-align: right;\">\n",
              "      <th></th>\n",
              "      <th>Id</th>\n",
              "      <th>node</th>\n",
              "      <th>InDegree</th>\n",
              "      <th>OutDegree</th>\n",
              "      <th>BetweennessCentrality</th>\n",
              "      <th>PageRank</th>\n",
              "    </tr>\n",
              "  </thead>\n",
              "  <tbody>\n",
              "    <tr>\n",
              "      <th>0</th>\n",
              "      <td>v8</td>\n",
              "      <td>https://www.thehindu.com/</td>\n",
              "      <td>212</td>\n",
              "      <td>183</td>\n",
              "      <td>66106.822956</td>\n",
              "      <td>0.003961</td>\n",
              "    </tr>\n",
              "    <tr>\n",
              "      <th>1</th>\n",
              "      <td>v209</td>\n",
              "      <td>https://www.thehindu.com/subscription/</td>\n",
              "      <td>212</td>\n",
              "      <td>1</td>\n",
              "      <td>0.000000</td>\n",
              "      <td>0.002444</td>\n",
              "    </tr>\n",
              "    <tr>\n",
              "      <th>2</th>\n",
              "      <td>v144</td>\n",
              "      <td>https://www.thehindu.com/opinion/</td>\n",
              "      <td>211</td>\n",
              "      <td>155</td>\n",
              "      <td>9988.837281</td>\n",
              "      <td>0.001826</td>\n",
              "    </tr>\n",
              "    <tr>\n",
              "      <th>3</th>\n",
              "      <td>v199</td>\n",
              "      <td>https://www.thehindu.com/sport/</td>\n",
              "      <td>211</td>\n",
              "      <td>130</td>\n",
              "      <td>1281.146225</td>\n",
              "      <td>0.001798</td>\n",
              "    </tr>\n",
              "    <tr>\n",
              "      <th>4</th>\n",
              "      <td>v15</td>\n",
              "      <td>https://www.thehindu.com/business/</td>\n",
              "      <td>211</td>\n",
              "      <td>145</td>\n",
              "      <td>3759.940696</td>\n",
              "      <td>0.001316</td>\n",
              "    </tr>\n",
              "    <tr>\n",
              "      <th>...</th>\n",
              "      <td>...</td>\n",
              "      <td>...</td>\n",
              "      <td>...</td>\n",
              "      <td>...</td>\n",
              "      <td>...</td>\n",
              "      <td>...</td>\n",
              "    </tr>\n",
              "    <tr>\n",
              "      <th>105</th>\n",
              "      <td>v14</td>\n",
              "      <td>https://www.thehindu.com/brandhub/</td>\n",
              "      <td>210</td>\n",
              "      <td>145</td>\n",
              "      <td>5083.062635</td>\n",
              "      <td>0.000771</td>\n",
              "    </tr>\n",
              "    <tr>\n",
              "      <th>106</th>\n",
              "      <td>v10</td>\n",
              "      <td>https://www.thehindu.com/advertise-with-us/</td>\n",
              "      <td>210</td>\n",
              "      <td>123</td>\n",
              "      <td>907.428421</td>\n",
              "      <td>0.000770</td>\n",
              "    </tr>\n",
              "    <tr>\n",
              "      <th>107</th>\n",
              "      <td>v143</td>\n",
              "      <td>https://www.thehindu.com/newsletter-subscripti...</td>\n",
              "      <td>210</td>\n",
              "      <td>121</td>\n",
              "      <td>807.793500</td>\n",
              "      <td>0.000770</td>\n",
              "    </tr>\n",
              "    <tr>\n",
              "      <th>108</th>\n",
              "      <td>v162</td>\n",
              "      <td>https://www.thehindu.com/readers-editor-terms/</td>\n",
              "      <td>210</td>\n",
              "      <td>121</td>\n",
              "      <td>888.867309</td>\n",
              "      <td>0.000770</td>\n",
              "    </tr>\n",
              "    <tr>\n",
              "      <th>109</th>\n",
              "      <td>v354</td>\n",
              "      <td>https://frontline.thehindu.com/the-nation/educ...</td>\n",
              "      <td>179</td>\n",
              "      <td>0</td>\n",
              "      <td>0.000000</td>\n",
              "      <td>0.000722</td>\n",
              "    </tr>\n",
              "  </tbody>\n",
              "</table>\n",
              "<p>110 rows × 6 columns</p>\n",
              "</div>"
            ],
            "text/plain": [
              "       Id                                               node  InDegree  \\\n",
              "0      v8                          https://www.thehindu.com/       212   \n",
              "1    v209             https://www.thehindu.com/subscription/       212   \n",
              "2    v144                  https://www.thehindu.com/opinion/       211   \n",
              "3    v199                    https://www.thehindu.com/sport/       211   \n",
              "4     v15                 https://www.thehindu.com/business/       211   \n",
              "..    ...                                                ...       ...   \n",
              "105   v14                 https://www.thehindu.com/brandhub/       210   \n",
              "106   v10        https://www.thehindu.com/advertise-with-us/       210   \n",
              "107  v143  https://www.thehindu.com/newsletter-subscripti...       210   \n",
              "108  v162     https://www.thehindu.com/readers-editor-terms/       210   \n",
              "109  v354  https://frontline.thehindu.com/the-nation/educ...       179   \n",
              "\n",
              "     OutDegree  BetweennessCentrality  PageRank  \n",
              "0          183           66106.822956  0.003961  \n",
              "1            1               0.000000  0.002444  \n",
              "2          155            9988.837281  0.001826  \n",
              "3          130            1281.146225  0.001798  \n",
              "4          145            3759.940696  0.001316  \n",
              "..         ...                    ...       ...  \n",
              "105        145            5083.062635  0.000771  \n",
              "106        123             907.428421  0.000770  \n",
              "107        121             807.793500  0.000770  \n",
              "108        121             888.867309  0.000770  \n",
              "109          0               0.000000  0.000722  \n",
              "\n",
              "[110 rows x 6 columns]"
            ]
          },
          "execution_count": 48,
          "metadata": {},
          "output_type": "execute_result"
        }
      ],
      "source": [
        "df2.head(110)"
      ]
    },
    {
      "cell_type": "code",
      "execution_count": 49,
      "metadata": {},
      "outputs": [
        {
          "data": {
            "text/plain": [
              "array([212, 211, 210], dtype=int64)"
            ]
          },
          "execution_count": 49,
          "metadata": {},
          "output_type": "execute_result"
        }
      ],
      "source": [
        "df2.iloc[:109]['InDegree'].unique()"
      ]
    },
    {
      "cell_type": "markdown",
      "metadata": {},
      "source": [
        "<h4>Removing Sidewalk links"
      ]
    },
    {
      "cell_type": "code",
      "execution_count": 50,
      "metadata": {},
      "outputs": [],
      "source": [
        "df2 = df2.iloc[109:]"
      ]
    },
    {
      "cell_type": "code",
      "execution_count": 51,
      "metadata": {},
      "outputs": [],
      "source": [
        "df2 = df2.reset_index()"
      ]
    },
    {
      "cell_type": "code",
      "execution_count": 52,
      "metadata": {},
      "outputs": [],
      "source": [
        "df2 = df2.drop('index', axis=1)"
      ]
    },
    {
      "cell_type": "code",
      "execution_count": 53,
      "metadata": {},
      "outputs": [
        {
          "data": {
            "text/html": [
              "<div>\n",
              "<style scoped>\n",
              "    .dataframe tbody tr th:only-of-type {\n",
              "        vertical-align: middle;\n",
              "    }\n",
              "\n",
              "    .dataframe tbody tr th {\n",
              "        vertical-align: top;\n",
              "    }\n",
              "\n",
              "    .dataframe thead th {\n",
              "        text-align: right;\n",
              "    }\n",
              "</style>\n",
              "<table border=\"1\" class=\"dataframe\">\n",
              "  <thead>\n",
              "    <tr style=\"text-align: right;\">\n",
              "      <th></th>\n",
              "      <th>Id</th>\n",
              "      <th>node</th>\n",
              "      <th>InDegree</th>\n",
              "      <th>OutDegree</th>\n",
              "      <th>BetweennessCentrality</th>\n",
              "      <th>PageRank</th>\n",
              "    </tr>\n",
              "  </thead>\n",
              "  <tbody>\n",
              "    <tr>\n",
              "      <th>0</th>\n",
              "      <td>v354</td>\n",
              "      <td>https://frontline.thehindu.com/the-nation/educ...</td>\n",
              "      <td>179</td>\n",
              "      <td>0</td>\n",
              "      <td>0.000000</td>\n",
              "      <td>0.000722</td>\n",
              "    </tr>\n",
              "    <tr>\n",
              "      <th>1</th>\n",
              "      <td>v43</td>\n",
              "      <td>https://www.thehindu.com/food/</td>\n",
              "      <td>161</td>\n",
              "      <td>135</td>\n",
              "      <td>2393.741356</td>\n",
              "      <td>0.001103</td>\n",
              "    </tr>\n",
              "    <tr>\n",
              "      <th>2</th>\n",
              "      <td>v379</td>\n",
              "      <td>https://www.thehindubusinessline.com/markets/s...</td>\n",
              "      <td>158</td>\n",
              "      <td>0</td>\n",
              "      <td>0.000000</td>\n",
              "      <td>0.000684</td>\n",
              "    </tr>\n",
              "    <tr>\n",
              "      <th>3</th>\n",
              "      <td>v92</td>\n",
              "      <td>https://www.thehindu.com/news/national/china-d...</td>\n",
              "      <td>129</td>\n",
              "      <td>134</td>\n",
              "      <td>2613.854559</td>\n",
              "      <td>0.000635</td>\n",
              "    </tr>\n",
              "    <tr>\n",
              "      <th>4</th>\n",
              "      <td>v99</td>\n",
              "      <td>https://www.thehindu.com/news/national/indians...</td>\n",
              "      <td>124</td>\n",
              "      <td>128</td>\n",
              "      <td>863.413542</td>\n",
              "      <td>0.000622</td>\n",
              "    </tr>\n",
              "    <tr>\n",
              "      <th>...</th>\n",
              "      <td>...</td>\n",
              "      <td>...</td>\n",
              "      <td>...</td>\n",
              "      <td>...</td>\n",
              "      <td>...</td>\n",
              "      <td>...</td>\n",
              "    </tr>\n",
              "    <tr>\n",
              "      <th>3106</th>\n",
              "      <td>v1266</td>\n",
              "      <td>https://www.thehindu.com/profile/author/Litta-...</td>\n",
              "      <td>1</td>\n",
              "      <td>0</td>\n",
              "      <td>0.000000</td>\n",
              "      <td>0.000269</td>\n",
              "    </tr>\n",
              "    <tr>\n",
              "      <th>3107</th>\n",
              "      <td>v1269</td>\n",
              "      <td>https://www.thehindu.com/profile/author/Pallav...</td>\n",
              "      <td>1</td>\n",
              "      <td>0</td>\n",
              "      <td>0.000000</td>\n",
              "      <td>0.000269</td>\n",
              "    </tr>\n",
              "    <tr>\n",
              "      <th>3108</th>\n",
              "      <td>v1272</td>\n",
              "      <td>https://www.thehindu.com/profile/author/Ranjan...</td>\n",
              "      <td>1</td>\n",
              "      <td>0</td>\n",
              "      <td>0.000000</td>\n",
              "      <td>0.000269</td>\n",
              "    </tr>\n",
              "    <tr>\n",
              "      <th>3109</th>\n",
              "      <td>v1301</td>\n",
              "      <td>https://www.thehindu.com/todays-paper/tp-natio...</td>\n",
              "      <td>1</td>\n",
              "      <td>0</td>\n",
              "      <td>0.000000</td>\n",
              "      <td>0.000269</td>\n",
              "    </tr>\n",
              "    <tr>\n",
              "      <th>3110</th>\n",
              "      <td>v1</td>\n",
              "      <td>http://www.thehindu.com/</td>\n",
              "      <td>0</td>\n",
              "      <td>1</td>\n",
              "      <td>0.000000</td>\n",
              "      <td>0.000268</td>\n",
              "    </tr>\n",
              "  </tbody>\n",
              "</table>\n",
              "<p>3111 rows × 6 columns</p>\n",
              "</div>"
            ],
            "text/plain": [
              "         Id                                               node  InDegree  \\\n",
              "0      v354  https://frontline.thehindu.com/the-nation/educ...       179   \n",
              "1       v43                     https://www.thehindu.com/food/       161   \n",
              "2      v379  https://www.thehindubusinessline.com/markets/s...       158   \n",
              "3       v92  https://www.thehindu.com/news/national/china-d...       129   \n",
              "4       v99  https://www.thehindu.com/news/national/indians...       124   \n",
              "...     ...                                                ...       ...   \n",
              "3106  v1266  https://www.thehindu.com/profile/author/Litta-...         1   \n",
              "3107  v1269  https://www.thehindu.com/profile/author/Pallav...         1   \n",
              "3108  v1272  https://www.thehindu.com/profile/author/Ranjan...         1   \n",
              "3109  v1301  https://www.thehindu.com/todays-paper/tp-natio...         1   \n",
              "3110     v1                           http://www.thehindu.com/         0   \n",
              "\n",
              "      OutDegree  BetweennessCentrality  PageRank  \n",
              "0             0               0.000000  0.000722  \n",
              "1           135            2393.741356  0.001103  \n",
              "2             0               0.000000  0.000684  \n",
              "3           134            2613.854559  0.000635  \n",
              "4           128             863.413542  0.000622  \n",
              "...         ...                    ...       ...  \n",
              "3106          0               0.000000  0.000269  \n",
              "3107          0               0.000000  0.000269  \n",
              "3108          0               0.000000  0.000269  \n",
              "3109          0               0.000000  0.000269  \n",
              "3110          1               0.000000  0.000268  \n",
              "\n",
              "[3111 rows x 6 columns]"
            ]
          },
          "execution_count": 53,
          "metadata": {},
          "output_type": "execute_result"
        }
      ],
      "source": [
        "df2"
      ]
    },
    {
      "cell_type": "markdown",
      "metadata": {},
      "source": [
        "<h4>Top 10 Nodes Based on In Degree"
      ]
    },
    {
      "cell_type": "code",
      "execution_count": 54,
      "metadata": {},
      "outputs": [
        {
          "data": {
            "text/html": [
              "<div>\n",
              "<style scoped>\n",
              "    .dataframe tbody tr th:only-of-type {\n",
              "        vertical-align: middle;\n",
              "    }\n",
              "\n",
              "    .dataframe tbody tr th {\n",
              "        vertical-align: top;\n",
              "    }\n",
              "\n",
              "    .dataframe thead th {\n",
              "        text-align: right;\n",
              "    }\n",
              "</style>\n",
              "<table border=\"1\" class=\"dataframe\">\n",
              "  <thead>\n",
              "    <tr style=\"text-align: right;\">\n",
              "      <th></th>\n",
              "      <th>Id</th>\n",
              "      <th>node</th>\n",
              "      <th>InDegree</th>\n",
              "      <th>OutDegree</th>\n",
              "      <th>BetweennessCentrality</th>\n",
              "      <th>PageRank</th>\n",
              "    </tr>\n",
              "  </thead>\n",
              "  <tbody>\n",
              "    <tr>\n",
              "      <th>0</th>\n",
              "      <td>v354</td>\n",
              "      <td>https://frontline.thehindu.com/the-nation/educ...</td>\n",
              "      <td>179</td>\n",
              "      <td>0</td>\n",
              "      <td>0.000000</td>\n",
              "      <td>0.000722</td>\n",
              "    </tr>\n",
              "    <tr>\n",
              "      <th>1</th>\n",
              "      <td>v43</td>\n",
              "      <td>https://www.thehindu.com/food/</td>\n",
              "      <td>161</td>\n",
              "      <td>135</td>\n",
              "      <td>2393.741356</td>\n",
              "      <td>0.001103</td>\n",
              "    </tr>\n",
              "    <tr>\n",
              "      <th>2</th>\n",
              "      <td>v379</td>\n",
              "      <td>https://www.thehindubusinessline.com/markets/s...</td>\n",
              "      <td>158</td>\n",
              "      <td>0</td>\n",
              "      <td>0.000000</td>\n",
              "      <td>0.000684</td>\n",
              "    </tr>\n",
              "    <tr>\n",
              "      <th>3</th>\n",
              "      <td>v92</td>\n",
              "      <td>https://www.thehindu.com/news/national/china-d...</td>\n",
              "      <td>129</td>\n",
              "      <td>134</td>\n",
              "      <td>2613.854559</td>\n",
              "      <td>0.000635</td>\n",
              "    </tr>\n",
              "    <tr>\n",
              "      <th>4</th>\n",
              "      <td>v99</td>\n",
              "      <td>https://www.thehindu.com/news/national/indians...</td>\n",
              "      <td>124</td>\n",
              "      <td>128</td>\n",
              "      <td>863.413542</td>\n",
              "      <td>0.000622</td>\n",
              "    </tr>\n",
              "    <tr>\n",
              "      <th>5</th>\n",
              "      <td>v28</td>\n",
              "      <td>https://www.thehindu.com/business/hindenburg-2...</td>\n",
              "      <td>123</td>\n",
              "      <td>127</td>\n",
              "      <td>774.447961</td>\n",
              "      <td>0.000604</td>\n",
              "    </tr>\n",
              "    <tr>\n",
              "      <th>6</th>\n",
              "      <td>v223</td>\n",
              "      <td>https://www.thehindu.com/termsofuse/</td>\n",
              "      <td>116</td>\n",
              "      <td>126</td>\n",
              "      <td>1055.711728</td>\n",
              "      <td>0.000435</td>\n",
              "    </tr>\n",
              "    <tr>\n",
              "      <th>7</th>\n",
              "      <td>v213</td>\n",
              "      <td>https://www.thehindu.com/subscription/freetria...</td>\n",
              "      <td>111</td>\n",
              "      <td>1</td>\n",
              "      <td>55.500000</td>\n",
              "      <td>0.000574</td>\n",
              "    </tr>\n",
              "    <tr>\n",
              "      <th>8</th>\n",
              "      <td>v51</td>\n",
              "      <td>https://www.thehindu.com/myaccount/?tab=bookmarks</td>\n",
              "      <td>111</td>\n",
              "      <td>121</td>\n",
              "      <td>122.041297</td>\n",
              "      <td>0.000421</td>\n",
              "    </tr>\n",
              "    <tr>\n",
              "      <th>9</th>\n",
              "      <td>v80</td>\n",
              "      <td>https://www.thehindu.com/news/international/ph...</td>\n",
              "      <td>104</td>\n",
              "      <td>130</td>\n",
              "      <td>566.029256</td>\n",
              "      <td>0.000590</td>\n",
              "    </tr>\n",
              "  </tbody>\n",
              "</table>\n",
              "</div>"
            ],
            "text/plain": [
              "     Id                                               node  InDegree  \\\n",
              "0  v354  https://frontline.thehindu.com/the-nation/educ...       179   \n",
              "1   v43                     https://www.thehindu.com/food/       161   \n",
              "2  v379  https://www.thehindubusinessline.com/markets/s...       158   \n",
              "3   v92  https://www.thehindu.com/news/national/china-d...       129   \n",
              "4   v99  https://www.thehindu.com/news/national/indians...       124   \n",
              "5   v28  https://www.thehindu.com/business/hindenburg-2...       123   \n",
              "6  v223               https://www.thehindu.com/termsofuse/       116   \n",
              "7  v213  https://www.thehindu.com/subscription/freetria...       111   \n",
              "8   v51  https://www.thehindu.com/myaccount/?tab=bookmarks       111   \n",
              "9   v80  https://www.thehindu.com/news/international/ph...       104   \n",
              "\n",
              "   OutDegree  BetweennessCentrality  PageRank  \n",
              "0          0               0.000000  0.000722  \n",
              "1        135            2393.741356  0.001103  \n",
              "2          0               0.000000  0.000684  \n",
              "3        134            2613.854559  0.000635  \n",
              "4        128             863.413542  0.000622  \n",
              "5        127             774.447961  0.000604  \n",
              "6        126            1055.711728  0.000435  \n",
              "7          1              55.500000  0.000574  \n",
              "8        121             122.041297  0.000421  \n",
              "9        130             566.029256  0.000590  "
            ]
          },
          "execution_count": 54,
          "metadata": {},
          "output_type": "execute_result"
        }
      ],
      "source": [
        "df2.iloc[(df2['InDegree'].sort_values(ascending=False).iloc[:10].keys())]"
      ]
    },
    {
      "cell_type": "code",
      "execution_count": 55,
      "metadata": {},
      "outputs": [
        {
          "data": {
            "text/plain": [
              "array(['https://frontline.thehindu.com/the-nation/education/witch-hunt-against-tejaswini-desai-highlights-dangers-of-being-a-teacher-in-india-today/article67040371.ece',\n",
              "       'https://www.thehindu.com/food/',\n",
              "       'https://www.thehindubusinessline.com/markets/swan-energy-shares-rise-following-robust-quarterly-performance/article67200664.ece',\n",
              "       'https://www.thehindu.com/news/national/china-doubles-down-on-new-map-tells-india-to-not-over-interpret/article67251703.ece',\n",
              "       'https://www.thehindu.com/news/national/indians-more-likely-than-others-to-believe-indias-influence-is-growing-finds-pew-survey/article67252212.ece',\n",
              "       'https://www.thehindu.com/business/hindenburg-20-occrp-alleges-mauritius-based-opaque-funds-invested-millions-of-dollars-in-adani-stock/article67254422.ece'],\n",
              "      dtype=object)"
            ]
          },
          "execution_count": 55,
          "metadata": {},
          "output_type": "execute_result"
        }
      ],
      "source": [
        "np.array(df2.iloc[(df2['InDegree'].sort_values(ascending=False).iloc[:6].keys())]['node'])"
      ]
    },
    {
      "cell_type": "markdown",
      "metadata": {},
      "source": [
        "<h4>Top 5 Nodes Based on Out Degree "
      ]
    },
    {
      "cell_type": "code",
      "execution_count": 63,
      "metadata": {},
      "outputs": [
        {
          "data": {
            "text/html": [
              "<div>\n",
              "<style scoped>\n",
              "    .dataframe tbody tr th:only-of-type {\n",
              "        vertical-align: middle;\n",
              "    }\n",
              "\n",
              "    .dataframe tbody tr th {\n",
              "        vertical-align: top;\n",
              "    }\n",
              "\n",
              "    .dataframe thead th {\n",
              "        text-align: right;\n",
              "    }\n",
              "</style>\n",
              "<table border=\"1\" class=\"dataframe\">\n",
              "  <thead>\n",
              "    <tr style=\"text-align: right;\">\n",
              "      <th></th>\n",
              "      <th>Id</th>\n",
              "      <th>node</th>\n",
              "      <th>InDegree</th>\n",
              "      <th>OutDegree</th>\n",
              "      <th>BetweennessCentrality</th>\n",
              "      <th>PageRank</th>\n",
              "    </tr>\n",
              "  </thead>\n",
              "  <tbody>\n",
              "    <tr>\n",
              "      <th>521</th>\n",
              "      <td>v46</td>\n",
              "      <td>https://www.thehindu.com/latest-news/</td>\n",
              "      <td>2</td>\n",
              "      <td>397</td>\n",
              "      <td>3874.804588</td>\n",
              "      <td>0.000295</td>\n",
              "    </tr>\n",
              "    <tr>\n",
              "      <th>196</th>\n",
              "      <td>v172</td>\n",
              "      <td>https://www.thehindu.com/sci-tech/science/chan...</td>\n",
              "      <td>4</td>\n",
              "      <td>215</td>\n",
              "      <td>6388.694163</td>\n",
              "      <td>0.000298</td>\n",
              "    </tr>\n",
              "    <tr>\n",
              "      <th>277</th>\n",
              "      <td>v174</td>\n",
              "      <td>https://www.thehindu.com/sci-tech/science/expl...</td>\n",
              "      <td>3</td>\n",
              "      <td>211</td>\n",
              "      <td>5219.747106</td>\n",
              "      <td>0.000297</td>\n",
              "    </tr>\n",
              "    <tr>\n",
              "      <th>35</th>\n",
              "      <td>v175</td>\n",
              "      <td>https://www.thehindu.com/sci-tech/science/isro...</td>\n",
              "      <td>15</td>\n",
              "      <td>207</td>\n",
              "      <td>6094.829598</td>\n",
              "      <td>0.000288</td>\n",
              "    </tr>\n",
              "    <tr>\n",
              "      <th>383</th>\n",
              "      <td>v87</td>\n",
              "      <td>https://www.thehindu.com/news/morning-digest-s...</td>\n",
              "      <td>3</td>\n",
              "      <td>167</td>\n",
              "      <td>2956.838936</td>\n",
              "      <td>0.000275</td>\n",
              "    </tr>\n",
              "    <tr>\n",
              "      <th>730</th>\n",
              "      <td>v84</td>\n",
              "      <td>https://www.thehindu.com/news/morning-digest-a...</td>\n",
              "      <td>2</td>\n",
              "      <td>166</td>\n",
              "      <td>5661.643316</td>\n",
              "      <td>0.000275</td>\n",
              "    </tr>\n",
              "    <tr>\n",
              "      <th>24</th>\n",
              "      <td>v224</td>\n",
              "      <td>https://www.thehindu.com/topic/The_Hindu_Expla...</td>\n",
              "      <td>24</td>\n",
              "      <td>164</td>\n",
              "      <td>22158.892496</td>\n",
              "      <td>0.000308</td>\n",
              "    </tr>\n",
              "    <tr>\n",
              "      <th>726</th>\n",
              "      <td>v139</td>\n",
              "      <td>https://www.thehindu.com/news/top-news-of-the-...</td>\n",
              "      <td>2</td>\n",
              "      <td>161</td>\n",
              "      <td>4862.203803</td>\n",
              "      <td>0.000275</td>\n",
              "    </tr>\n",
              "    <tr>\n",
              "      <th>16</th>\n",
              "      <td>v48</td>\n",
              "      <td>https://www.thehindu.com/life-and-style/food/</td>\n",
              "      <td>52</td>\n",
              "      <td>161</td>\n",
              "      <td>5617.931697</td>\n",
              "      <td>0.000444</td>\n",
              "    </tr>\n",
              "    <tr>\n",
              "      <th>39</th>\n",
              "      <td>v85</td>\n",
              "      <td>https://www.thehindu.com/news/morning-digest-a...</td>\n",
              "      <td>13</td>\n",
              "      <td>160</td>\n",
              "      <td>5660.476191</td>\n",
              "      <td>0.000298</td>\n",
              "    </tr>\n",
              "  </tbody>\n",
              "</table>\n",
              "</div>"
            ],
            "text/plain": [
              "       Id                                               node  InDegree  \\\n",
              "521   v46              https://www.thehindu.com/latest-news/         2   \n",
              "196  v172  https://www.thehindu.com/sci-tech/science/chan...         4   \n",
              "277  v174  https://www.thehindu.com/sci-tech/science/expl...         3   \n",
              "35   v175  https://www.thehindu.com/sci-tech/science/isro...        15   \n",
              "383   v87  https://www.thehindu.com/news/morning-digest-s...         3   \n",
              "730   v84  https://www.thehindu.com/news/morning-digest-a...         2   \n",
              "24   v224  https://www.thehindu.com/topic/The_Hindu_Expla...        24   \n",
              "726  v139  https://www.thehindu.com/news/top-news-of-the-...         2   \n",
              "16    v48      https://www.thehindu.com/life-and-style/food/        52   \n",
              "39    v85  https://www.thehindu.com/news/morning-digest-a...        13   \n",
              "\n",
              "     OutDegree  BetweennessCentrality  PageRank  \n",
              "521        397            3874.804588  0.000295  \n",
              "196        215            6388.694163  0.000298  \n",
              "277        211            5219.747106  0.000297  \n",
              "35         207            6094.829598  0.000288  \n",
              "383        167            2956.838936  0.000275  \n",
              "730        166            5661.643316  0.000275  \n",
              "24         164           22158.892496  0.000308  \n",
              "726        161            4862.203803  0.000275  \n",
              "16         161            5617.931697  0.000444  \n",
              "39         160            5660.476191  0.000298  "
            ]
          },
          "execution_count": 63,
          "metadata": {},
          "output_type": "execute_result"
        }
      ],
      "source": [
        "df2.iloc[(df2['OutDegree'].sort_values(ascending=False).iloc[:10].keys())]"
      ]
    },
    {
      "cell_type": "code",
      "execution_count": 57,
      "metadata": {},
      "outputs": [
        {
          "data": {
            "text/plain": [
              "array(['https://www.thehindu.com/latest-news/',\n",
              "       'https://www.thehindu.com/sci-tech/science/chandrayaan-3-isro-future-gaganyaan-rlv-sslv-sce-200/article67236348.ece',\n",
              "       'https://www.thehindu.com/sci-tech/science/explained-why-did-chandrayaan-3-land-on-the-near-side-of-the-moon/article67235632.ece',\n",
              "       'https://www.thehindu.com/sci-tech/science/isro-shares-video-showing-pragyan-rover-roaming-around-shiv-shakti-point/article67238464.ece',\n",
              "       'https://www.thehindu.com/news/morning-digest-september-1-2023/article67257169.ece',\n",
              "       'https://www.thehindu.com/news/morning-digest-august-29-2023/article67245990.ece'],\n",
              "      dtype=object)"
            ]
          },
          "execution_count": 57,
          "metadata": {},
          "output_type": "execute_result"
        }
      ],
      "source": [
        "np.array(df2.iloc[(df2['OutDegree'].sort_values(ascending=False).iloc[:6].keys())]['node'])"
      ]
    },
    {
      "cell_type": "markdown",
      "metadata": {},
      "source": [
        "<h4>Top 5 Nodes Based on Betweenness Centrality"
      ]
    },
    {
      "cell_type": "code",
      "execution_count": 58,
      "metadata": {},
      "outputs": [
        {
          "data": {
            "text/html": [
              "<div>\n",
              "<style scoped>\n",
              "    .dataframe tbody tr th:only-of-type {\n",
              "        vertical-align: middle;\n",
              "    }\n",
              "\n",
              "    .dataframe tbody tr th {\n",
              "        vertical-align: top;\n",
              "    }\n",
              "\n",
              "    .dataframe thead th {\n",
              "        text-align: right;\n",
              "    }\n",
              "</style>\n",
              "<table border=\"1\" class=\"dataframe\">\n",
              "  <thead>\n",
              "    <tr style=\"text-align: right;\">\n",
              "      <th></th>\n",
              "      <th>Id</th>\n",
              "      <th>node</th>\n",
              "      <th>InDegree</th>\n",
              "      <th>OutDegree</th>\n",
              "      <th>BetweennessCentrality</th>\n",
              "      <th>PageRank</th>\n",
              "    </tr>\n",
              "  </thead>\n",
              "  <tbody>\n",
              "    <tr>\n",
              "      <th>24</th>\n",
              "      <td>v224</td>\n",
              "      <td>https://www.thehindu.com/topic/The_Hindu_Expla...</td>\n",
              "      <td>24</td>\n",
              "      <td>164</td>\n",
              "      <td>22158.892496</td>\n",
              "      <td>0.000308</td>\n",
              "    </tr>\n",
              "    <tr>\n",
              "      <th>76</th>\n",
              "      <td>v25</td>\n",
              "      <td>https://www.thehindu.com/business/agri-busines...</td>\n",
              "      <td>8</td>\n",
              "      <td>134</td>\n",
              "      <td>12906.543775</td>\n",
              "      <td>0.000294</td>\n",
              "    </tr>\n",
              "    <tr>\n",
              "      <th>196</th>\n",
              "      <td>v172</td>\n",
              "      <td>https://www.thehindu.com/sci-tech/science/chan...</td>\n",
              "      <td>4</td>\n",
              "      <td>215</td>\n",
              "      <td>6388.694163</td>\n",
              "      <td>0.000298</td>\n",
              "    </tr>\n",
              "    <tr>\n",
              "      <th>35</th>\n",
              "      <td>v175</td>\n",
              "      <td>https://www.thehindu.com/sci-tech/science/isro...</td>\n",
              "      <td>15</td>\n",
              "      <td>207</td>\n",
              "      <td>6094.829598</td>\n",
              "      <td>0.000288</td>\n",
              "    </tr>\n",
              "    <tr>\n",
              "      <th>730</th>\n",
              "      <td>v84</td>\n",
              "      <td>https://www.thehindu.com/news/morning-digest-a...</td>\n",
              "      <td>2</td>\n",
              "      <td>166</td>\n",
              "      <td>5661.643316</td>\n",
              "      <td>0.000275</td>\n",
              "    </tr>\n",
              "    <tr>\n",
              "      <th>39</th>\n",
              "      <td>v85</td>\n",
              "      <td>https://www.thehindu.com/news/morning-digest-a...</td>\n",
              "      <td>13</td>\n",
              "      <td>160</td>\n",
              "      <td>5660.476191</td>\n",
              "      <td>0.000298</td>\n",
              "    </tr>\n",
              "  </tbody>\n",
              "</table>\n",
              "</div>"
            ],
            "text/plain": [
              "       Id                                               node  InDegree  \\\n",
              "24   v224  https://www.thehindu.com/topic/The_Hindu_Expla...        24   \n",
              "76    v25  https://www.thehindu.com/business/agri-busines...         8   \n",
              "196  v172  https://www.thehindu.com/sci-tech/science/chan...         4   \n",
              "35   v175  https://www.thehindu.com/sci-tech/science/isro...        15   \n",
              "730   v84  https://www.thehindu.com/news/morning-digest-a...         2   \n",
              "39    v85  https://www.thehindu.com/news/morning-digest-a...        13   \n",
              "\n",
              "     OutDegree  BetweennessCentrality  PageRank  \n",
              "24         164           22158.892496  0.000308  \n",
              "76         134           12906.543775  0.000294  \n",
              "196        215            6388.694163  0.000298  \n",
              "35         207            6094.829598  0.000288  \n",
              "730        166            5661.643316  0.000275  \n",
              "39         160            5660.476191  0.000298  "
            ]
          },
          "execution_count": 58,
          "metadata": {},
          "output_type": "execute_result"
        }
      ],
      "source": [
        "df2.iloc[(df2['BetweennessCentrality'].sort_values(ascending=False).iloc[:6].keys())]"
      ]
    },
    {
      "cell_type": "code",
      "execution_count": 59,
      "metadata": {},
      "outputs": [
        {
          "data": {
            "text/plain": [
              "array(['https://www.thehindu.com/topic/The_Hindu_Explains/',\n",
              "       'https://www.thehindu.com/business/agri-business/explained-why-was-a-40-duty-imposed-on-onion-exports/article67239297.ece',\n",
              "       'https://www.thehindu.com/sci-tech/science/chandrayaan-3-isro-future-gaganyaan-rlv-sslv-sce-200/article67236348.ece',\n",
              "       'https://www.thehindu.com/sci-tech/science/isro-shares-video-showing-pragyan-rover-roaming-around-shiv-shakti-point/article67238464.ece',\n",
              "       'https://www.thehindu.com/news/morning-digest-august-29-2023/article67245990.ece',\n",
              "       'https://www.thehindu.com/news/morning-digest-august-30-2023/article67249570.ece'],\n",
              "      dtype=object)"
            ]
          },
          "execution_count": 59,
          "metadata": {},
          "output_type": "execute_result"
        }
      ],
      "source": [
        "np.array(df2.iloc[(df2['BetweennessCentrality'].sort_values(ascending=False).iloc[:6].keys())]['node'])"
      ]
    },
    {
      "cell_type": "markdown",
      "metadata": {},
      "source": [
        "<h4>Top 15 Nodes Based on Page Rank (without considering Edge Weights)"
      ]
    },
    {
      "cell_type": "code",
      "execution_count": 61,
      "metadata": {},
      "outputs": [
        {
          "data": {
            "text/html": [
              "<div>\n",
              "<style scoped>\n",
              "    .dataframe tbody tr th:only-of-type {\n",
              "        vertical-align: middle;\n",
              "    }\n",
              "\n",
              "    .dataframe tbody tr th {\n",
              "        vertical-align: top;\n",
              "    }\n",
              "\n",
              "    .dataframe thead th {\n",
              "        text-align: right;\n",
              "    }\n",
              "</style>\n",
              "<table border=\"1\" class=\"dataframe\">\n",
              "  <thead>\n",
              "    <tr style=\"text-align: right;\">\n",
              "      <th></th>\n",
              "      <th>Id</th>\n",
              "      <th>node</th>\n",
              "      <th>InDegree</th>\n",
              "      <th>OutDegree</th>\n",
              "      <th>BetweennessCentrality</th>\n",
              "      <th>PageRank</th>\n",
              "    </tr>\n",
              "  </thead>\n",
              "  <tbody>\n",
              "    <tr>\n",
              "      <th>97</th>\n",
              "      <td>v211</td>\n",
              "      <td>https://www.thehindu.com/subscription/freetrial/</td>\n",
              "      <td>6</td>\n",
              "      <td>1</td>\n",
              "      <td>0.000000</td>\n",
              "      <td>0.002700</td>\n",
              "    </tr>\n",
              "    <tr>\n",
              "      <th>11</th>\n",
              "      <td>v372</td>\n",
              "      <td>https://www.thehindu.com/profile/author/The-Hi...</td>\n",
              "      <td>96</td>\n",
              "      <td>0</td>\n",
              "      <td>0.000000</td>\n",
              "      <td>0.001867</td>\n",
              "    </tr>\n",
              "    <tr>\n",
              "      <th>1</th>\n",
              "      <td>v43</td>\n",
              "      <td>https://www.thehindu.com/food/</td>\n",
              "      <td>161</td>\n",
              "      <td>135</td>\n",
              "      <td>2393.741356</td>\n",
              "      <td>0.001103</td>\n",
              "    </tr>\n",
              "    <tr>\n",
              "      <th>12</th>\n",
              "      <td>v215</td>\n",
              "      <td>https://www.thehindu.com/subscription/freetria...</td>\n",
              "      <td>93</td>\n",
              "      <td>1</td>\n",
              "      <td>46.937500</td>\n",
              "      <td>0.000938</td>\n",
              "    </tr>\n",
              "    <tr>\n",
              "      <th>970</th>\n",
              "      <td>v228</td>\n",
              "      <td>https://pay.hindu.com/esubspay/</td>\n",
              "      <td>1</td>\n",
              "      <td>0</td>\n",
              "      <td>0.000000</td>\n",
              "      <td>0.000927</td>\n",
              "    </tr>\n",
              "    <tr>\n",
              "      <th>971</th>\n",
              "      <td>v229</td>\n",
              "      <td>http://ad.apps.fm/Xqu5BIBeCOREIqFMIJ5-hfE7og6f...</td>\n",
              "      <td>1</td>\n",
              "      <td>0</td>\n",
              "      <td>0.000000</td>\n",
              "      <td>0.000927</td>\n",
              "    </tr>\n",
              "    <tr>\n",
              "      <th>972</th>\n",
              "      <td>v346</td>\n",
              "      <td>https://roofandfloor.thehindu.com/bangalore</td>\n",
              "      <td>1</td>\n",
              "      <td>0</td>\n",
              "      <td>0.000000</td>\n",
              "      <td>0.000927</td>\n",
              "    </tr>\n",
              "    <tr>\n",
              "      <th>969</th>\n",
              "      <td>v227</td>\n",
              "      <td>https://thehinduads.com/</td>\n",
              "      <td>1</td>\n",
              "      <td>0</td>\n",
              "      <td>0.000000</td>\n",
              "      <td>0.000927</td>\n",
              "    </tr>\n",
              "    <tr>\n",
              "      <th>0</th>\n",
              "      <td>v354</td>\n",
              "      <td>https://frontline.thehindu.com/the-nation/educ...</td>\n",
              "      <td>179</td>\n",
              "      <td>0</td>\n",
              "      <td>0.000000</td>\n",
              "      <td>0.000722</td>\n",
              "    </tr>\n",
              "    <tr>\n",
              "      <th>2</th>\n",
              "      <td>v379</td>\n",
              "      <td>https://www.thehindubusinessline.com/markets/s...</td>\n",
              "      <td>158</td>\n",
              "      <td>0</td>\n",
              "      <td>0.000000</td>\n",
              "      <td>0.000684</td>\n",
              "    </tr>\n",
              "    <tr>\n",
              "      <th>3</th>\n",
              "      <td>v92</td>\n",
              "      <td>https://www.thehindu.com/news/national/china-d...</td>\n",
              "      <td>129</td>\n",
              "      <td>134</td>\n",
              "      <td>2613.854559</td>\n",
              "      <td>0.000635</td>\n",
              "    </tr>\n",
              "    <tr>\n",
              "      <th>4</th>\n",
              "      <td>v99</td>\n",
              "      <td>https://www.thehindu.com/news/national/indians...</td>\n",
              "      <td>124</td>\n",
              "      <td>128</td>\n",
              "      <td>863.413542</td>\n",
              "      <td>0.000622</td>\n",
              "    </tr>\n",
              "    <tr>\n",
              "      <th>5</th>\n",
              "      <td>v28</td>\n",
              "      <td>https://www.thehindu.com/business/hindenburg-2...</td>\n",
              "      <td>123</td>\n",
              "      <td>127</td>\n",
              "      <td>774.447961</td>\n",
              "      <td>0.000604</td>\n",
              "    </tr>\n",
              "    <tr>\n",
              "      <th>9</th>\n",
              "      <td>v80</td>\n",
              "      <td>https://www.thehindu.com/news/international/ph...</td>\n",
              "      <td>104</td>\n",
              "      <td>130</td>\n",
              "      <td>566.029256</td>\n",
              "      <td>0.000590</td>\n",
              "    </tr>\n",
              "    <tr>\n",
              "      <th>7</th>\n",
              "      <td>v213</td>\n",
              "      <td>https://www.thehindu.com/subscription/freetria...</td>\n",
              "      <td>111</td>\n",
              "      <td>1</td>\n",
              "      <td>55.500000</td>\n",
              "      <td>0.000574</td>\n",
              "    </tr>\n",
              "  </tbody>\n",
              "</table>\n",
              "</div>"
            ],
            "text/plain": [
              "       Id                                               node  InDegree  \\\n",
              "97   v211   https://www.thehindu.com/subscription/freetrial/         6   \n",
              "11   v372  https://www.thehindu.com/profile/author/The-Hi...        96   \n",
              "1     v43                     https://www.thehindu.com/food/       161   \n",
              "12   v215  https://www.thehindu.com/subscription/freetria...        93   \n",
              "970  v228                    https://pay.hindu.com/esubspay/         1   \n",
              "971  v229  http://ad.apps.fm/Xqu5BIBeCOREIqFMIJ5-hfE7og6f...         1   \n",
              "972  v346        https://roofandfloor.thehindu.com/bangalore         1   \n",
              "969  v227                           https://thehinduads.com/         1   \n",
              "0    v354  https://frontline.thehindu.com/the-nation/educ...       179   \n",
              "2    v379  https://www.thehindubusinessline.com/markets/s...       158   \n",
              "3     v92  https://www.thehindu.com/news/national/china-d...       129   \n",
              "4     v99  https://www.thehindu.com/news/national/indians...       124   \n",
              "5     v28  https://www.thehindu.com/business/hindenburg-2...       123   \n",
              "9     v80  https://www.thehindu.com/news/international/ph...       104   \n",
              "7    v213  https://www.thehindu.com/subscription/freetria...       111   \n",
              "\n",
              "     OutDegree  BetweennessCentrality  PageRank  \n",
              "97           1               0.000000  0.002700  \n",
              "11           0               0.000000  0.001867  \n",
              "1          135            2393.741356  0.001103  \n",
              "12           1              46.937500  0.000938  \n",
              "970          0               0.000000  0.000927  \n",
              "971          0               0.000000  0.000927  \n",
              "972          0               0.000000  0.000927  \n",
              "969          0               0.000000  0.000927  \n",
              "0            0               0.000000  0.000722  \n",
              "2            0               0.000000  0.000684  \n",
              "3          134            2613.854559  0.000635  \n",
              "4          128             863.413542  0.000622  \n",
              "5          127             774.447961  0.000604  \n",
              "9          130             566.029256  0.000590  \n",
              "7            1              55.500000  0.000574  "
            ]
          },
          "execution_count": 61,
          "metadata": {},
          "output_type": "execute_result"
        }
      ],
      "source": [
        "pagerank = df2.iloc[(df2['PageRank'].sort_values(ascending=False).iloc[:15].keys())]\n",
        "pagerank"
      ]
    },
    {
      "cell_type": "code",
      "execution_count": 62,
      "metadata": {},
      "outputs": [],
      "source": [
        "pagerank.to_csv('pagerank.csv')"
      ]
    }
  ],
  "metadata": {
    "colab": {
      "provenance": []
    },
    "kernelspec": {
      "display_name": "Python 3",
      "name": "python3"
    },
    "language_info": {
      "codemirror_mode": {
        "name": "ipython",
        "version": 3
      },
      "file_extension": ".py",
      "mimetype": "text/x-python",
      "name": "python",
      "nbconvert_exporter": "python",
      "pygments_lexer": "ipython3",
      "version": "3.11.5"
    }
  },
  "nbformat": 4,
  "nbformat_minor": 0
}
